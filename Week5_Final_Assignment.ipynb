{
  "nbformat": 4,
  "nbformat_minor": 0,
  "metadata": {
    "colab": {
      "name": "Week5 Final Assignment.ipynb",
      "provenance": [],
      "authorship_tag": "ABX9TyMCS/LvpMSRkzhQXW+/My4+"
    },
    "kernelspec": {
      "name": "python3",
      "display_name": "Python 3"
    },
    "accelerator": "GPU",
    "widgets": {
      "application/vnd.jupyter.widget-state+json": {
        "7c751a94a5964b2786d6023c7fb65bfd": {
          "model_module": "@jupyter-widgets/controls",
          "model_name": "HBoxModel",
          "state": {
            "_view_name": "HBoxView",
            "_dom_classes": [],
            "_model_name": "HBoxModel",
            "_view_module": "@jupyter-widgets/controls",
            "_model_module_version": "1.5.0",
            "_view_count": null,
            "_view_module_version": "1.5.0",
            "box_style": "",
            "layout": "IPY_MODEL_245e50e3f18f492d9bc5f452d5fc68a8",
            "_model_module": "@jupyter-widgets/controls",
            "children": [
              "IPY_MODEL_9d37a7135a5d4c5798fca9ce6cba324e",
              "IPY_MODEL_42040ba0608f4371a115a317b7a2b70f"
            ]
          }
        },
        "245e50e3f18f492d9bc5f452d5fc68a8": {
          "model_module": "@jupyter-widgets/base",
          "model_name": "LayoutModel",
          "state": {
            "_view_name": "LayoutView",
            "grid_template_rows": null,
            "right": null,
            "justify_content": null,
            "_view_module": "@jupyter-widgets/base",
            "overflow": null,
            "_model_module_version": "1.2.0",
            "_view_count": null,
            "flex_flow": null,
            "width": null,
            "min_width": null,
            "border": null,
            "align_items": null,
            "bottom": null,
            "_model_module": "@jupyter-widgets/base",
            "top": null,
            "grid_column": null,
            "overflow_y": null,
            "overflow_x": null,
            "grid_auto_flow": null,
            "grid_area": null,
            "grid_template_columns": null,
            "flex": null,
            "_model_name": "LayoutModel",
            "justify_items": null,
            "grid_row": null,
            "max_height": null,
            "align_content": null,
            "visibility": null,
            "align_self": null,
            "height": null,
            "min_height": null,
            "padding": null,
            "grid_auto_rows": null,
            "grid_gap": null,
            "max_width": null,
            "order": null,
            "_view_module_version": "1.2.0",
            "grid_template_areas": null,
            "object_position": null,
            "object_fit": null,
            "grid_auto_columns": null,
            "margin": null,
            "display": null,
            "left": null
          }
        },
        "9d37a7135a5d4c5798fca9ce6cba324e": {
          "model_module": "@jupyter-widgets/controls",
          "model_name": "FloatProgressModel",
          "state": {
            "_view_name": "ProgressView",
            "style": "IPY_MODEL_28646c8073d04ccca801ebc5433baed7",
            "_dom_classes": [],
            "description": "Training: 100%",
            "_model_name": "FloatProgressModel",
            "bar_style": "success",
            "max": 250,
            "_view_module": "@jupyter-widgets/controls",
            "_model_module_version": "1.5.0",
            "value": 250,
            "_view_count": null,
            "_view_module_version": "1.5.0",
            "orientation": "horizontal",
            "min": 0,
            "description_tooltip": null,
            "_model_module": "@jupyter-widgets/controls",
            "layout": "IPY_MODEL_34b2da91375a4543a9230b01dce1145e"
          }
        },
        "42040ba0608f4371a115a317b7a2b70f": {
          "model_module": "@jupyter-widgets/controls",
          "model_name": "HTMLModel",
          "state": {
            "_view_name": "HTMLView",
            "style": "IPY_MODEL_1e524bbae9324fcda369239a9abdb31e",
            "_dom_classes": [],
            "description": "",
            "_model_name": "HTMLModel",
            "placeholder": "​",
            "_view_module": "@jupyter-widgets/controls",
            "_model_module_version": "1.5.0",
            "value": " 250/250 [2:36:25&lt;00:00, 37.54s/it]",
            "_view_count": null,
            "_view_module_version": "1.5.0",
            "description_tooltip": null,
            "_model_module": "@jupyter-widgets/controls",
            "layout": "IPY_MODEL_b63c59ef73d4426c8985b2bce1c181b8"
          }
        },
        "28646c8073d04ccca801ebc5433baed7": {
          "model_module": "@jupyter-widgets/controls",
          "model_name": "ProgressStyleModel",
          "state": {
            "_view_name": "StyleView",
            "_model_name": "ProgressStyleModel",
            "description_width": "initial",
            "_view_module": "@jupyter-widgets/base",
            "_model_module_version": "1.5.0",
            "_view_count": null,
            "_view_module_version": "1.2.0",
            "bar_color": null,
            "_model_module": "@jupyter-widgets/controls"
          }
        },
        "34b2da91375a4543a9230b01dce1145e": {
          "model_module": "@jupyter-widgets/base",
          "model_name": "LayoutModel",
          "state": {
            "_view_name": "LayoutView",
            "grid_template_rows": null,
            "right": null,
            "justify_content": null,
            "_view_module": "@jupyter-widgets/base",
            "overflow": null,
            "_model_module_version": "1.2.0",
            "_view_count": null,
            "flex_flow": null,
            "width": null,
            "min_width": null,
            "border": null,
            "align_items": null,
            "bottom": null,
            "_model_module": "@jupyter-widgets/base",
            "top": null,
            "grid_column": null,
            "overflow_y": null,
            "overflow_x": null,
            "grid_auto_flow": null,
            "grid_area": null,
            "grid_template_columns": null,
            "flex": null,
            "_model_name": "LayoutModel",
            "justify_items": null,
            "grid_row": null,
            "max_height": null,
            "align_content": null,
            "visibility": null,
            "align_self": null,
            "height": null,
            "min_height": null,
            "padding": null,
            "grid_auto_rows": null,
            "grid_gap": null,
            "max_width": null,
            "order": null,
            "_view_module_version": "1.2.0",
            "grid_template_areas": null,
            "object_position": null,
            "object_fit": null,
            "grid_auto_columns": null,
            "margin": null,
            "display": null,
            "left": null
          }
        },
        "1e524bbae9324fcda369239a9abdb31e": {
          "model_module": "@jupyter-widgets/controls",
          "model_name": "DescriptionStyleModel",
          "state": {
            "_view_name": "StyleView",
            "_model_name": "DescriptionStyleModel",
            "description_width": "",
            "_view_module": "@jupyter-widgets/base",
            "_model_module_version": "1.5.0",
            "_view_count": null,
            "_view_module_version": "1.2.0",
            "_model_module": "@jupyter-widgets/controls"
          }
        },
        "b63c59ef73d4426c8985b2bce1c181b8": {
          "model_module": "@jupyter-widgets/base",
          "model_name": "LayoutModel",
          "state": {
            "_view_name": "LayoutView",
            "grid_template_rows": null,
            "right": null,
            "justify_content": null,
            "_view_module": "@jupyter-widgets/base",
            "overflow": null,
            "_model_module_version": "1.2.0",
            "_view_count": null,
            "flex_flow": null,
            "width": null,
            "min_width": null,
            "border": null,
            "align_items": null,
            "bottom": null,
            "_model_module": "@jupyter-widgets/base",
            "top": null,
            "grid_column": null,
            "overflow_y": null,
            "overflow_x": null,
            "grid_auto_flow": null,
            "grid_area": null,
            "grid_template_columns": null,
            "flex": null,
            "_model_name": "LayoutModel",
            "justify_items": null,
            "grid_row": null,
            "max_height": null,
            "align_content": null,
            "visibility": null,
            "align_self": null,
            "height": null,
            "min_height": null,
            "padding": null,
            "grid_auto_rows": null,
            "grid_gap": null,
            "max_width": null,
            "order": null,
            "_view_module_version": "1.2.0",
            "grid_template_areas": null,
            "object_position": null,
            "object_fit": null,
            "grid_auto_columns": null,
            "margin": null,
            "display": null,
            "left": null
          }
        }
      }
    }
  },
  "cells": [
    {
      "cell_type": "code",
      "metadata": {
        "id": "Roy4vyAGQEAz",
        "colab_type": "code",
        "colab": {}
      },
      "source": [
        "import numpy as np\n",
        "import pandas as pd\n",
        "import matplotlib.pyplot as plt\n",
        "import torch\n",
        "import torch.nn as nn\n",
        "import torch.optim as optim\n",
        "import torchvision\n",
        "from torchvision.datasets import FashionMNIST\n",
        "from torch.utils.data import DataLoader\n",
        "import torchvision.transforms as transforms\n",
        "from torchvision.utils import make_grid\n",
        "import os\n",
        "from tqdm.notebook import tqdm\n",
        "import warnings\n",
        "warnings.filterwarnings('ignore')"
      ],
      "execution_count": 0,
      "outputs": []
    },
    {
      "cell_type": "code",
      "metadata": {
        "id": "Yrv8W5hzQ9Uu",
        "colab_type": "code",
        "colab": {}
      },
      "source": [
        "transform = transforms.Compose([\n",
        "     transforms.ToTensor(),\n",
        "     transforms.Normalize(mean=0,std=1)                          \n",
        "     ])\n",
        "train_dataset = FashionMNIST(train=True, transform=transform, root=os.getcwd(), download=True)\n",
        "test_dataset =  FashionMNIST(train=False, transform=transform, root=os.getcwd(), download=True)"
      ],
      "execution_count": 0,
      "outputs": []
    },
    {
      "cell_type": "code",
      "metadata": {
        "id": "rKyVle4nQ-Vo",
        "colab_type": "code",
        "outputId": "a4019bd0-5c12-4f00-ff53-a2f879370732",
        "colab": {
          "base_uri": "https://localhost:8080/",
          "height": 319
        }
      },
      "source": [
        "print(\"Train datset:\", train_dataset)\n",
        "print(\"Test dataset:\", test_dataset)"
      ],
      "execution_count": 0,
      "outputs": [
        {
          "output_type": "stream",
          "text": [
            "Train datset: Dataset FashionMNIST\n",
            "    Number of datapoints: 60000\n",
            "    Root location: /content\n",
            "    Split: Train\n",
            "    StandardTransform\n",
            "Transform: Compose(\n",
            "               ToTensor()\n",
            "               Normalize(mean=0, std=1)\n",
            "           )\n",
            "Test dataset: Dataset FashionMNIST\n",
            "    Number of datapoints: 10000\n",
            "    Root location: /content\n",
            "    Split: Test\n",
            "    StandardTransform\n",
            "Transform: Compose(\n",
            "               ToTensor()\n",
            "               Normalize(mean=0, std=1)\n",
            "           )\n"
          ],
          "name": "stdout"
        }
      ]
    },
    {
      "cell_type": "code",
      "metadata": {
        "id": "p7O-SIqtRDbt",
        "colab_type": "code",
        "colab": {}
      },
      "source": [
        "train_loader = DataLoader(train_dataset,\n",
        "                          batch_size=16,\n",
        "                          shuffle=True,\n",
        "                          num_workers=4)\n",
        "test_loader = DataLoader(test_dataset,\n",
        "                         batch_size=16,\n",
        "                          shuffle=False,\n",
        "                          num_workers=4)"
      ],
      "execution_count": 0,
      "outputs": []
    },
    {
      "cell_type": "code",
      "metadata": {
        "id": "V9rbgmsoRF5J",
        "colab_type": "code",
        "outputId": "0057f80d-bb9d-4f79-9bdb-f1f3e86009b6",
        "colab": {
          "base_uri": "https://localhost:8080/",
          "height": 50
        }
      },
      "source": [
        "train_iterator = iter(train_loader)\n",
        "train_batch = next(train_iterator)\n",
        "for item in train_batch:\n",
        "  print(item.size())"
      ],
      "execution_count": 0,
      "outputs": [
        {
          "output_type": "stream",
          "text": [
            "torch.Size([16, 1, 28, 28])\n",
            "torch.Size([16])\n"
          ],
          "name": "stdout"
        }
      ]
    },
    {
      "cell_type": "code",
      "metadata": {
        "id": "7o_b-sSyRK6d",
        "colab_type": "code",
        "colab": {}
      },
      "source": [
        "def plot_images(batch):\n",
        "  img_grid = make_grid(batch[0], nrow=4)\n",
        "  img_np = img_grid.numpy()\n",
        "  img_np = np.transpose(img_np, (1,2,0))\n",
        "  plt.figure(figsize=(8,8))\n",
        "  plt.imshow(img_np)\n",
        "  plt.title(batch[1])\n",
        "  plt.xticks([])\n",
        "  plt.yticks([])\n",
        "  plt.plot()\n"
      ],
      "execution_count": 0,
      "outputs": []
    },
    {
      "cell_type": "code",
      "metadata": {
        "id": "tufck3JEROHU",
        "colab_type": "code",
        "outputId": "6a9576c7-4d05-4d2f-9568-893f17cf583d",
        "colab": {
          "base_uri": "https://localhost:8080/",
          "height": 485
        }
      },
      "source": [
        "plot_images(train_batch)"
      ],
      "execution_count": 0,
      "outputs": [
        {
          "output_type": "display_data",
          "data": {
            "image/png": "[encoded data removed]",
            "text/plain": [
              "<Figure size 576x576 with 1 Axes>"
            ]
          },
          "metadata": {
            "tags": []
          }
        }
      ]
    },
    {
      "cell_type": "code",
      "metadata": {
        "id": "4-eOYKXGRRRo",
        "colab_type": "code",
        "outputId": "6ccd3804-ac73-4cbd-f6c1-4c9e2324bd95",
        "colab": {
          "base_uri": "https://localhost:8080/",
          "height": 34
        }
      },
      "source": [
        "flatten = nn.Flatten()\n",
        "flatten(train_batch[0]).size()"
      ],
      "execution_count": 0,
      "outputs": [
        {
          "output_type": "execute_result",
          "data": {
            "text/plain": [
              "torch.Size([16, 784])"
            ]
          },
          "metadata": {
            "tags": []
          },
          "execution_count": 32
        }
      ]
    },
    {
      "cell_type": "code",
      "metadata": {
        "id": "LlauOJEXRTv2",
        "colab_type": "code",
        "outputId": "7c648e17-76e1-4d42-93cf-e0eb953b099b",
        "colab": {
          "base_uri": "https://localhost:8080/",
          "height": 235
        }
      },
      "source": [
        "model = nn.Sequential(\n",
        "    nn.Flatten(),\n",
        "\n",
        "    nn.Linear(in_features = 784 , out_features=650),\n",
        "    nn.ReLU(),\n",
        "\n",
        "    nn.Linear(in_features = 650 , out_features=420),\n",
        "    nn.ReLU(),\n",
        "\n",
        "    nn.Linear(in_features = 420 , out_features=360),\n",
        "    nn.ReLU(),\n",
        "\n",
        "    nn.Linear(in_features = 360 , out_features=230),\n",
        "    nn.ReLU(),\n",
        "\n",
        "    nn.Linear(in_features = 230 , out_features=10),\n",
        "    nn.Softmax(dim=1)\n",
        ")\n",
        "model"
      ],
      "execution_count": 0,
      "outputs": [
        {
          "output_type": "execute_result",
          "data": {
            "text/plain": [
              "Sequential(\n",
              "  (0): Flatten()\n",
              "  (1): Linear(in_features=784, out_features=650, bias=True)\n",
              "  (2): ReLU()\n",
              "  (3): Linear(in_features=650, out_features=420, bias=True)\n",
              "  (4): ReLU()\n",
              "  (5): Linear(in_features=420, out_features=360, bias=True)\n",
              "  (6): ReLU()\n",
              "  (7): Linear(in_features=360, out_features=230, bias=True)\n",
              "  (8): ReLU()\n",
              "  (9): Linear(in_features=230, out_features=10, bias=True)\n",
              "  (10): Softmax(dim=1)\n",
              ")"
            ]
          },
          "metadata": {
            "tags": []
          },
          "execution_count": 33
        }
      ]
    },
    {
      "cell_type": "code",
      "metadata": {
        "id": "CSisvAu5RV-T",
        "colab_type": "code",
        "outputId": "8e1337ab-a25c-4355-ed3f-7ad04174b26d",
        "colab": {
          "base_uri": "https://localhost:8080/",
          "height": 34
        }
      },
      "source": [
        "pred_batch = model(train_batch[0])\n",
        "print(pred_batch.size())"
      ],
      "execution_count": 0,
      "outputs": [
        {
          "output_type": "stream",
          "text": [
            "torch.Size([16, 10])\n"
          ],
          "name": "stdout"
        }
      ]
    },
    {
      "cell_type": "code",
      "metadata": {
        "id": "fXfFT2i3RYt9",
        "colab_type": "code",
        "outputId": "3ed1d999-4944-411a-dae9-0224851810cf",
        "colab": {
          "base_uri": "https://localhost:8080/",
          "height": 50
        }
      },
      "source": [
        "pred_labels = torch.argmax(pred_batch, axis=1)\n",
        "print(pred_labels)"
      ],
      "execution_count": 0,
      "outputs": [
        {
          "output_type": "stream",
          "text": [
            "tensor([9, 9, 9, 9, 9, 9, 9, 9, 9, 9, 9, 9, 9, 9, 9, 9],\n",
            "       grad_fn=<NotImplemented>)\n"
          ],
          "name": "stdout"
        }
      ]
    },
    {
      "cell_type": "code",
      "metadata": {
        "id": "floWSXnBRa_C",
        "colab_type": "code",
        "colab": {}
      },
      "source": [
        "loss_criterion = nn.CrossEntropyLoss()"
      ],
      "execution_count": 0,
      "outputs": []
    },
    {
      "cell_type": "code",
      "metadata": {
        "id": "0XVdT5XXR9so",
        "colab_type": "code",
        "outputId": "e775e52c-4289-485f-cf62-030134323f68",
        "colab": {
          "base_uri": "https://localhost:8080/",
          "height": 34
        }
      },
      "source": [
        "loss_criterion(pred_batch, train_batch[1])"
      ],
      "execution_count": 0,
      "outputs": [
        {
          "output_type": "execute_result",
          "data": {
            "text/plain": [
              "tensor(2.3023, grad_fn=<NllLossBackward>)"
            ]
          },
          "metadata": {
            "tags": []
          },
          "execution_count": 37
        }
      ]
    },
    {
      "cell_type": "code",
      "metadata": {
        "id": "UDsmaqn0SASx",
        "colab_type": "code",
        "colab": {}
      },
      "source": [
        "def evaluate_on_cpu(model, dataloader):\n",
        "  with torch.no_grad():\n",
        "    total, correct =0, 0\n",
        "\n",
        "    for batch in dataloader:\n",
        "      images, labels = batch\n",
        "\n",
        "      out_probs = model(images)\n",
        "      out_labels = torch.argmax(out_probs, axis=1)\n",
        "      total += labels.size(0)\n",
        "      correct += torch.sum(labels == out_labels).item()\n",
        "  return 100 * correct/total\n",
        "\n",
        "def train_on_cpu(model, loss_criterion, optimizer, train_loader, test_loader, epochs=250):\n",
        "  hist = {'loss': [],\n",
        "          'train_acc': [],\n",
        "          'test_acc': []}\n",
        "  for epoch_num in tqdm(range(1,epochs+1), desc='Training', total=epochs):\n",
        "    losses = []\n",
        "    for batch in train_loader:\n",
        "      images, labels = batch\n",
        "\n",
        "      optimizer.zero_grad()\n",
        "      out = model(images)\n",
        "\n",
        "      loss = loss_criterion(out, labels)\n",
        "      losses.append(loss.item())\n",
        "      loss.backward()\n",
        "\n",
        "      optimizer.step()\n",
        "    \n",
        "    hist['loss'].append(np.array(losses).mean())\n",
        "    train_acc = evaluate_on_cpu(model, train_loader)\n",
        "    test_acc = evaluate_on_cpu(model, test_loader)\n",
        "    hist['train_acc'].append(train_acc)\n",
        "    hist['test_acc'].append(test_acc)\n",
        "  fig, ax = plt.subplots(nrows=1, ncols=2, figsize=(14,7))\n",
        "  ax[0].plot(range(1, epochs+1), hist['loss'], label='Loss')\n",
        "  ax[0].grid()\n",
        "  ax[0].set_xlabel('Epochs')\n",
        "  ax[0].set_ylabel('Loss Value')\n",
        "  ax[0].set_title('Epochs vs. Loss')\n",
        "\n",
        "  ax[1].plot(range(1,epochs+1), hist['train_acc'], 'b-', label='Training accuracy')\n",
        "  ax[1].plot(range(1, epochs+1), hist['test_acc'], 'm-', label='Test accuracy')\n",
        "  ax[1].grid()\n",
        "  ax[1].set_xlabel('Epochs')\n",
        "  ax[1].set_ylabel('Accuracy')\n",
        "  ax[1].set_title('Epochs vs. Accuracy')\n",
        "  plt.show()\n",
        "  return model\n"
      ],
      "execution_count": 0,
      "outputs": []
    },
    {
      "cell_type": "code",
      "metadata": {
        "id": "L8WjdNTBSDGN",
        "colab_type": "code",
        "colab": {}
      },
      "source": [
        "loss_criterion = nn.CrossEntropyLoss()\n",
        "optimizer = optim.Adagrad(model.parameters())\n",
        "\n",
        "model = train_on_cpu(model, loss_criterion, optimizer, train_loader, test_loader)\n"
      ],
      "execution_count": 0,
      "outputs": []
    },
    {
      "cell_type": "code",
      "metadata": {
        "id": "6FQrVduuSIsE",
        "colab_type": "code",
        "outputId": "0ec34679-d327-4365-a3ec-e6057c301f4b",
        "colab": {
          "base_uri": "https://localhost:8080/",
          "height": 34
        }
      },
      "source": [
        "device = torch.device('cuda' if torch.cuda.is_available() else 'cpu')\n",
        "print(device)\n"
      ],
      "execution_count": 0,
      "outputs": [
        {
          "output_type": "stream",
          "text": [
            "cuda\n"
          ],
          "name": "stdout"
        }
      ]
    },
    {
      "cell_type": "code",
      "metadata": {
        "id": "7RuzM2q_SJbg",
        "colab_type": "code",
        "colab": {}
      },
      "source": [
        "def evaluate_on_gpu(model, dataloader):\n",
        "  with torch.no_grad():\n",
        "    total, correct =0, 0\n",
        "\n",
        "    for batch in dataloader:\n",
        "      images, labels= batch\n",
        "      images,labels = images.to(device), labels.to(device)\n",
        "\n",
        "      out_probs = model(images)\n",
        "      out_labels = torch.argmax(out_probs, axis=1)\n",
        "      total += labels.size(0)\n",
        "      correct += torch.sum(labels == out_labels).item()\n",
        "  return 100 * correct/total\n",
        "\n",
        "def train_on_gpu(model, loss_criterion, optimizer, train_loader, test_loader, epochs=250):\n",
        "  hist = {'loss': [],\n",
        "          'train_acc': [],\n",
        "          'test_acc': []}\n",
        "  for epoch_num in tqdm(range(1,epochs+1), desc='Training', total=epochs):\n",
        "    losses = []\n",
        "    for batch in train_loader:\n",
        "      images, labels = batch\n",
        "      images,labels = images.to(device),labels.to(device)\n",
        "\n",
        "      optimizer.zero_grad()\n",
        "      out = model(images)\n",
        "\n",
        "      loss = loss_criterion(out, labels)\n",
        "      losses.append(loss.item())\n",
        "      loss.backward()\n",
        "\n",
        "      optimizer.step()\n",
        "    \n",
        "    hist['loss'].append(np.array(losses).mean())\n",
        "    train_acc = evaluate_on_gpu(model, train_loader)\n",
        "    test_acc = evaluate_on_gpu(model, test_loader)\n",
        "    hist['train_acc'].append(train_acc)\n",
        "    hist['test_acc'].append(test_acc)\n",
        "  fig, ax = plt.subplots(nrows=1, ncols=2, figsize=(14,7))\n",
        "  ax[0].plot(range(1, epochs+1), hist['loss'], label='Loss')\n",
        "  ax[0].grid()\n",
        "  ax[0].set_xlabel('Epochs')\n",
        "  ax[0].set_ylabel('Loss Value')\n",
        "  ax[0].set_title('Epochs vs. Loss')\n",
        "\n",
        "  ax[1].plot(hist['train_acc'], 'b-', label='Training accuracy')\n",
        "  ax[1].plot(hist['test_acc'], 'm-', label='Test accuracy')\n",
        "  ax[1].grid()\n",
        "  ax[1].set_xlabel('Epochs')\n",
        "  ax[1].set_ylabel('Accuracy')\n",
        "  ax[1].set_title('Epochs vs. Accuracy')\n",
        "  plt.show()\n",
        "  return model"
      ],
      "execution_count": 0,
      "outputs": []
    },
    {
      "cell_type": "code",
      "metadata": {
        "id": "p65cTr-bSPp8",
        "colab_type": "code",
        "outputId": "75abd55a-913f-4ece-bafb-d931e340c173",
        "colab": {
          "base_uri": "https://localhost:8080/",
          "height": 507,
          "referenced_widgets": [
            "7c751a94a5964b2786d6023c7fb65bfd",
            "245e50e3f18f492d9bc5f452d5fc68a8",
            "9d37a7135a5d4c5798fca9ce6cba324e",
            "42040ba0608f4371a115a317b7a2b70f",
            "28646c8073d04ccca801ebc5433baed7",
            "34b2da91375a4543a9230b01dce1145e",
            "1e524bbae9324fcda369239a9abdb31e",
            "b63c59ef73d4426c8985b2bce1c181b8"
          ]
        }
      },
      "source": [
        "model = nn.Sequential(\n",
        "    nn.Flatten(),\n",
        "\n",
        "    nn.Linear(in_features = 784 , out_features=650),\n",
        "    nn.ReLU(),\n",
        "\n",
        "    nn.Linear(in_features = 650 , out_features=420),\n",
        "    nn.ReLU(),\n",
        "\n",
        "    nn.Linear(in_features = 420 , out_features=360),\n",
        "    nn.ReLU(),\n",
        "\n",
        "    nn.Linear(in_features = 360 , out_features=230),\n",
        "    nn.ReLU(),\n",
        "\n",
        "    nn.Linear(in_features = 230 , out_features=10),\n",
        "    nn.Softmax(dim=1)\n",
        ")\n",
        "model = model.to(device)\n",
        "\n",
        "loss_criterion = nn.CrossEntropyLoss()\n",
        "optimizer = optim.Adagrad(model.parameters())\n",
        "\n",
        "model = train_on_gpu(model, loss_criterion, optimizer, train_loader, test_loader)"
      ],
      "execution_count": 0,
      "outputs": [
        {
          "output_type": "display_data",
          "data": {
            "application/vnd.jupyter.widget-view+json": {
              "model_id": "7c751a94a5964b2786d6023c7fb65bfd",
              "version_minor": 0,
              "version_major": 2
            },
            "text/plain": [
              "HBox(children=(FloatProgress(value=0.0, description='Training', max=250.0, style=ProgressStyle(description_wid…"
            ]
          },
          "metadata": {
            "tags": []
          }
        },
        {
          "output_type": "stream",
          "text": [
            "\n"
          ],
          "name": "stdout"
        },
        {
          "output_type": "display_data",
          "data": {
            "image/png": "[encoded data removed]",
            "text/plain": [
              "<Figure size 1008x504 with 2 Axes>"
            ]
          },
          "metadata": {
            "tags": [],
            "needs_background": "light"
          }
        }
      ]
    }
  ]
}