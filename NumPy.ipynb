{
  "nbformat": 4,
  "nbformat_minor": 0,
  "metadata": {
    "colab": {
      "name": "NumPy.ipynb",
      "provenance": [],
      "collapsed_sections": [],
      "include_colab_link": true
    },
    "kernelspec": {
      "name": "python3",
      "display_name": "Python 3"
    }
  },
  "cells": [
    {
      "cell_type": "markdown",
      "metadata": {
        "id": "view-in-github",
        "colab_type": "text"
      },
      "source": [
        "<a href=\"https://colab.research.google.com/github/PrudviAnakala/Machine-Learning/blob/master/NumPy.ipynb\" target=\"_parent\"><img src=\"https://colab.research.google.com/assets/colab-badge.svg\" alt=\"Open In Colab\"/></a>"
      ]
    },
    {
      "cell_type": "markdown",
      "metadata": {
        "id": "XZaxLQZoLo80",
        "colab_type": "text"
      },
      "source": [
        "**Numerical Python** (NumPy)\n",
        "is used for numerical operations related to Linear algebra and calculus. "
      ]
    },
    {
      "cell_type": "markdown",
      "metadata": {
        "id": "CTL5NLQoMnK8",
        "colab_type": "text"
      },
      "source": [
        "# Understanding Dimensionality\n"
      ]
    },
    {
      "cell_type": "markdown",
      "metadata": {
        "id": "89GJpG2ylMG9",
        "colab_type": "text"
      },
      "source": [
        "* 1-dimensional space\n",
        "<img src='https://i.stack.imgur.com/LGBAG.png' height = 400>\n",
        "\n",
        "* 2-dimensional space\n",
        "<img src='https://raw.githubusercontent.com/rweigel/computingforscientists/master/Plotting_1D/figures/Plotting_1D_III.py.png' height = 400>\n",
        "\n",
        "* 3-dimensional space\n",
        "<img src='https://www.mathworks.com/help/examples/matlab/win64/Creating3DPlotsExample_02.png' height = 400>\n",
        "\n"
      ]
    },
    {
      "cell_type": "code",
      "metadata": {
        "id": "-mHSpck1mA-s",
        "colab_type": "code",
        "colab": {}
      },
      "source": [
        "import numpy as np"
      ],
      "execution_count": 0,
      "outputs": []
    },
    {
      "cell_type": "code",
      "metadata": {
        "id": "CH0nkAO4mAxN",
        "colab_type": "code",
        "outputId": "9c65fb00-6d8f-40e7-ca66-81b622f52dad",
        "colab": {
          "base_uri": "https://localhost:8080/",
          "height": 34
        }
      },
      "source": [
        "l = [1,2,3]\n",
        "\n",
        "x1 = np.array(l)\n",
        "print(type(x1), x1)"
      ],
      "execution_count": 0,
      "outputs": [
        {
          "output_type": "stream",
          "text": [
            "<class 'numpy.ndarray'> [1 2 3]\n"
          ],
          "name": "stdout"
        }
      ]
    },
    {
      "cell_type": "code",
      "metadata": {
        "id": "0ftW_w80vd-M",
        "colab_type": "code",
        "colab": {}
      },
      "source": [
        "np.array?"
      ],
      "execution_count": 0,
      "outputs": []
    },
    {
      "cell_type": "code",
      "metadata": {
        "id": "LlWIoUzFmAtj",
        "colab_type": "code",
        "outputId": "077d15ce-5851-4e87-ac59-6260cd9c4956",
        "colab": {
          "base_uri": "https://localhost:8080/",
          "height": 52
        }
      },
      "source": [
        "print(\"Dimensionality of the numpy array:\", x1.ndim)\n",
        "print(\"Shape of the numpy array:\", x1.shape)"
      ],
      "execution_count": 0,
      "outputs": [
        {
          "output_type": "stream",
          "text": [
            "Dimensionality of the numpy array: 1\n",
            "Shape of the numpy array: (3,)\n"
          ],
          "name": "stdout"
        }
      ]
    },
    {
      "cell_type": "code",
      "metadata": {
        "id": "TSmuB_0fmAop",
        "colab_type": "code",
        "outputId": "af5ff89d-d6f0-4c2f-9d80-f148fd282576",
        "colab": {
          "base_uri": "https://localhost:8080/",
          "height": 104
        }
      },
      "source": [
        "x2 = np.array([[1], [2], [3]])\n",
        "\n",
        "print(x2)\n",
        "print(\"Dimensionality of the numpy array:\", x2.ndim)\n",
        "print(\"Shape of the numpy array:\", x2.shape)"
      ],
      "execution_count": 0,
      "outputs": [
        {
          "output_type": "stream",
          "text": [
            "[[1]\n",
            " [2]\n",
            " [3]]\n",
            "Dimensionality of the numpy array: 2\n",
            "Shape of the numpy array: (3, 1)\n"
          ],
          "name": "stdout"
        }
      ]
    },
    {
      "cell_type": "code",
      "metadata": {
        "id": "XtgUakc5REpX",
        "colab_type": "code",
        "outputId": "b58af614-bedc-4d90-a089-cf2814108524",
        "colab": {
          "base_uri": "https://localhost:8080/",
          "height": 104
        }
      },
      "source": [
        "x2 = np.array([[10, 9, 8], [7, 6, 5], [4, 3, 2]])\n",
        "\n",
        "print(x2)\n",
        "print(\"Dimensionality of the numpy array:\", x2.ndim)\n",
        "print(\"Shape of the numpy array:\", x2.shape)"
      ],
      "execution_count": 0,
      "outputs": [
        {
          "output_type": "stream",
          "text": [
            "[[10  9  8]\n",
            " [ 7  6  5]\n",
            " [ 4  3  2]]\n",
            "Dimensionality of the numpy array: 2\n",
            "Shape of the numpy array: (3, 3)\n"
          ],
          "name": "stdout"
        }
      ]
    },
    {
      "cell_type": "code",
      "metadata": {
        "id": "HpLR1xauREni",
        "colab_type": "code",
        "outputId": "2dbfc12f-58f3-438e-94d1-d74a4cd3ea3f",
        "colab": {
          "base_uri": "https://localhost:8080/",
          "height": 139
        }
      },
      "source": [
        "x3 = np.array([[[1, 2, 10], [3, 4, 20]], [[5, 6, 30], [7, 8, 40]]])\n",
        "\n",
        "print(x3)\n",
        "print(\"Dimensionality of the numpy array:\", x3.ndim)\n",
        "print(\"Shape of the numpy array:\", x3.shape)"
      ],
      "execution_count": 0,
      "outputs": [
        {
          "output_type": "stream",
          "text": [
            "[[[ 1  2 10]\n",
            "  [ 3  4 20]]\n",
            "\n",
            " [[ 5  6 30]\n",
            "  [ 7  8 40]]]\n",
            "Dimensionality of the numpy array: 3\n",
            "Shape of the numpy array: (2, 2, 3)\n"
          ],
          "name": "stdout"
        }
      ]
    },
    {
      "cell_type": "markdown",
      "metadata": {
        "id": "u97pE8MvVRSn",
        "colab_type": "text"
      },
      "source": [
        "# Using NumPy arrays to hold datasets for your Machine Learning task"
      ]
    },
    {
      "cell_type": "markdown",
      "metadata": {
        "id": "yf7FH1mfUFQH",
        "colab_type": "text"
      },
      "source": [
        "![alt text](https://miro.medium.com/max/1828/1*CBtaBQIg5aypyK3F4nIkWQ.png)"
      ]
    },
    {
      "cell_type": "code",
      "metadata": {
        "id": "j4-P9X-9REia",
        "colab_type": "code",
        "outputId": "f6fb3009-cf77-41a7-b204-25dd2e38223b",
        "colab": {
          "base_uri": "https://localhost:8080/",
          "height": 469
        }
      },
      "source": [
        "dataset_ftrs = np.array([\n",
        "                         [800, 0, 0.3048, 71.3, 0.00266337], \n",
        "                         [1000, 0, 0.3048, 71.3, 0.00266337], \n",
        "                         [1250, 0, 0.3048, 71.3, 0.00266337], \n",
        "                         [1600, 0, 0.3048, 71.3, 0.00266337], \n",
        "                         [2000, 0, 0.3048, 71.3, 0.00266337], \n",
        "                         [2500, 0, 0.3048, 71.3, 0.00266337], \n",
        "                         [3150, 0, 0.3048, 71.3, 0.00266337], \n",
        "                         [4000, 0, 0.3048, 71.3, 0.00266337], \n",
        "                         [5000, 0, 0.3048, 71.3, 0.00266337], \n",
        "                         [6300, 0, 0.3048, 71.3, 0.00266337], \n",
        "                         [8000, 0, 0.3048, 71.3, 0.00266337], \n",
        "])\n",
        "\n",
        "dataset_labels = np.array([\n",
        "                           [126.201],\n",
        "                           [125.201],\n",
        "                           [125.951],\n",
        "                           [127.591],\n",
        "                           [127.461],\n",
        "                           [125.571],\n",
        "                           [125.201],\n",
        "                           [123.061],\n",
        "                           [121.301],\n",
        "                           [119.541],\n",
        "                           [117.151],\n",
        "])\n",
        "\n",
        "# Each row => Data Item\n",
        "# Each column => Data feature\n",
        "\n",
        "print(dataset_ftrs)\n",
        "print(dataset_labels)\n",
        "\n",
        "print(\"Dimensionality of dataset's features:\", dataset_ftrs.ndim)\n",
        "print(\"Shape of dataset's features:\", dataset_ftrs.shape)\n",
        "\n",
        "print(\"Dimensionality of dataset's labels:\", dataset_labels.ndim)\n",
        "print(\"Shape of dataset's labels:\", dataset_labels.shape)"
      ],
      "execution_count": 0,
      "outputs": [
        {
          "output_type": "stream",
          "text": [
            "[[8.00000e+02 0.00000e+00 3.04800e-01 7.13000e+01 2.66337e-03]\n",
            " [1.00000e+03 0.00000e+00 3.04800e-01 7.13000e+01 2.66337e-03]\n",
            " [1.25000e+03 0.00000e+00 3.04800e-01 7.13000e+01 2.66337e-03]\n",
            " [1.60000e+03 0.00000e+00 3.04800e-01 7.13000e+01 2.66337e-03]\n",
            " [2.00000e+03 0.00000e+00 3.04800e-01 7.13000e+01 2.66337e-03]\n",
            " [2.50000e+03 0.00000e+00 3.04800e-01 7.13000e+01 2.66337e-03]\n",
            " [3.15000e+03 0.00000e+00 3.04800e-01 7.13000e+01 2.66337e-03]\n",
            " [4.00000e+03 0.00000e+00 3.04800e-01 7.13000e+01 2.66337e-03]\n",
            " [5.00000e+03 0.00000e+00 3.04800e-01 7.13000e+01 2.66337e-03]\n",
            " [6.30000e+03 0.00000e+00 3.04800e-01 7.13000e+01 2.66337e-03]\n",
            " [8.00000e+03 0.00000e+00 3.04800e-01 7.13000e+01 2.66337e-03]]\n",
            "[[126.201]\n",
            " [125.201]\n",
            " [125.951]\n",
            " [127.591]\n",
            " [127.461]\n",
            " [125.571]\n",
            " [125.201]\n",
            " [123.061]\n",
            " [121.301]\n",
            " [119.541]\n",
            " [117.151]]\n",
            "Dimensionality of dataset's features: 2\n",
            "Shape of dataset's features: (11, 5)\n",
            "Dimensionality of dataset's labels: 2\n",
            "Shape of dataset's labels: (11, 1)\n"
          ],
          "name": "stdout"
        }
      ]
    },
    {
      "cell_type": "markdown",
      "metadata": {
        "id": "tvKdkAsSl2OH",
        "colab_type": "text"
      },
      "source": [
        "# Operations on NumPy arrays"
      ]
    },
    {
      "cell_type": "code",
      "metadata": {
        "id": "FBJRvqHbmUOu",
        "colab_type": "code",
        "outputId": "7d65ebb1-f15e-4b58-b40b-a40b5af595fa",
        "colab": {
          "base_uri": "https://localhost:8080/",
          "height": 139
        }
      },
      "source": [
        "A = np.array([[10, 9, 8], [7, 6, 5], [4, 3, 2]])\n",
        "B = np.array([[11,22,33], [54, 12, 10], [5, 4 ,9]])\n",
        "\n",
        "print(A)\n",
        "print()\n",
        "print(B)"
      ],
      "execution_count": 0,
      "outputs": [
        {
          "output_type": "stream",
          "text": [
            "[[10  9  8]\n",
            " [ 7  6  5]\n",
            " [ 4  3  2]]\n",
            "\n",
            "[[11 22 33]\n",
            " [54 12 10]\n",
            " [ 5  4  9]]\n"
          ],
          "name": "stdout"
        }
      ]
    },
    {
      "cell_type": "code",
      "metadata": {
        "id": "CnXpcj0XmUHk",
        "colab_type": "code",
        "outputId": "7b166b33-f012-4ddb-e2c7-e7ca0fe1f926",
        "colab": {
          "base_uri": "https://localhost:8080/",
          "height": 69
        }
      },
      "source": [
        "print(A + B) # Addition"
      ],
      "execution_count": 0,
      "outputs": [
        {
          "output_type": "stream",
          "text": [
            "[[21 31 41]\n",
            " [61 18 15]\n",
            " [ 9  7 11]]\n"
          ],
          "name": "stdout"
        }
      ]
    },
    {
      "cell_type": "code",
      "metadata": {
        "id": "Stb6E2PlmUDy",
        "colab_type": "code",
        "outputId": "10ebf1a1-ddfc-4026-e6d0-6d3b09aa79b2",
        "colab": {
          "base_uri": "https://localhost:8080/",
          "height": 69
        }
      },
      "source": [
        "print(A - B) # Subtraction"
      ],
      "execution_count": 0,
      "outputs": [
        {
          "output_type": "stream",
          "text": [
            "[[ -1 -13 -25]\n",
            " [-47  -6  -5]\n",
            " [ -1  -1  -7]]\n"
          ],
          "name": "stdout"
        }
      ]
    },
    {
      "cell_type": "code",
      "metadata": {
        "id": "M1ljHuaWmT_1",
        "colab_type": "code",
        "outputId": "6e95cc5d-e749-4cce-ec4d-210af1c9c6eb",
        "colab": {
          "base_uri": "https://localhost:8080/",
          "height": 69
        }
      },
      "source": [
        "print(A * B) # Multiplication"
      ],
      "execution_count": 0,
      "outputs": [
        {
          "output_type": "stream",
          "text": [
            "[[110 198 264]\n",
            " [378  72  50]\n",
            " [ 20  12  18]]\n"
          ],
          "name": "stdout"
        }
      ]
    },
    {
      "cell_type": "code",
      "metadata": {
        "id": "Ao3NBrixmT8J",
        "colab_type": "code",
        "outputId": "7e18b55d-90c2-4c02-c0af-4cfeb3abb795",
        "colab": {
          "base_uri": "https://localhost:8080/",
          "height": 69
        }
      },
      "source": [
        "print(A / B) # Division"
      ],
      "execution_count": 0,
      "outputs": [
        {
          "output_type": "stream",
          "text": [
            "[[0.90909091 0.40909091 0.24242424]\n",
            " [0.12962963 0.5        0.5       ]\n",
            " [0.8        0.75       0.22222222]]\n"
          ],
          "name": "stdout"
        }
      ]
    },
    {
      "cell_type": "code",
      "metadata": {
        "id": "34ysNoZvX-rL",
        "colab_type": "code",
        "outputId": "d048f45a-4b49-4ebb-9a38-a290faf24284",
        "colab": {
          "base_uri": "https://localhost:8080/",
          "height": 69
        }
      },
      "source": [
        "print(A ^ B) # XOR "
      ],
      "execution_count": 0,
      "outputs": [
        {
          "output_type": "stream",
          "text": [
            "[[ 1 31 41]\n",
            " [49 10 15]\n",
            " [ 1  7 11]]\n"
          ],
          "name": "stdout"
        }
      ]
    },
    {
      "cell_type": "code",
      "metadata": {
        "id": "KNM7y6vSX-mO",
        "colab_type": "code",
        "outputId": "ef0f1855-cc11-4b14-de37-269175f86b3f",
        "colab": {
          "base_uri": "https://localhost:8080/",
          "height": 69
        }
      },
      "source": [
        "print(A @ B) # Matrix multiplication of A and B\n",
        "# (3,3) @ (3,3) => {3,3}"
      ],
      "execution_count": 0,
      "outputs": [
        {
          "output_type": "stream",
          "text": [
            "[[636 360 492]\n",
            " [426 246 336]\n",
            " [216 132 180]]\n"
          ],
          "name": "stdout"
        }
      ]
    },
    {
      "cell_type": "code",
      "metadata": {
        "id": "VBhMItFtisFR",
        "colab_type": "code",
        "outputId": "a73a0bfc-f542-4d51-dd51-5b9d4d162cc2",
        "colab": {
          "base_uri": "https://localhost:8080/",
          "height": 139
        }
      },
      "source": [
        "print(A)\n",
        "print()\n",
        "print(A.T) # Transpose of A"
      ],
      "execution_count": 0,
      "outputs": [
        {
          "output_type": "stream",
          "text": [
            "[[10  9  8]\n",
            " [ 7  6  5]\n",
            " [ 4  3  2]]\n",
            "\n",
            "[[10  7  4]\n",
            " [ 9  6  3]\n",
            " [ 8  5  2]]\n"
          ],
          "name": "stdout"
        }
      ]
    },
    {
      "cell_type": "code",
      "metadata": {
        "id": "Urmyd7QtisA3",
        "colab_type": "code",
        "outputId": "6b06c57b-d199-42de-86d5-494f48a35aa3",
        "colab": {
          "base_uri": "https://localhost:8080/",
          "height": 104
        }
      },
      "source": [
        "X = np.array([[1, 2, 3]]) # Row matrix\n",
        "\n",
        "print(X, X.shape, '\\n')\n",
        "\n",
        "X_trans = X.T\n",
        "print(X_trans, X_trans.shape) # Column matrix"
      ],
      "execution_count": 0,
      "outputs": [
        {
          "output_type": "stream",
          "text": [
            "[[1 2 3]] (1, 3) \n",
            "\n",
            "[[1]\n",
            " [2]\n",
            " [3]] (3, 1)\n"
          ],
          "name": "stdout"
        }
      ]
    },
    {
      "cell_type": "code",
      "metadata": {
        "id": "AM28MIAsjFg2",
        "colab_type": "code",
        "outputId": "fe2ed58b-72d3-4fb3-eb7c-14301b64a247",
        "colab": {
          "base_uri": "https://localhost:8080/",
          "height": 104
        }
      },
      "source": [
        "print(A)\n",
        "print()\n",
        "print(A.ravel())"
      ],
      "execution_count": 0,
      "outputs": [
        {
          "output_type": "stream",
          "text": [
            "[[10  9  8]\n",
            " [ 7  6  5]\n",
            " [ 4  3  2]]\n",
            "\n",
            "[10  9  8  7  6  5  4  3  2]\n"
          ],
          "name": "stdout"
        }
      ]
    },
    {
      "cell_type": "code",
      "metadata": {
        "id": "nUQt65c8jpDd",
        "colab_type": "code",
        "outputId": "713ab314-ad81-4e33-89f2-fd8e6bbfd007",
        "colab": {
          "base_uri": "https://localhost:8080/",
          "height": 225
        }
      },
      "source": [
        "print(A, A.shape)\n",
        "print()\n",
        "print(X, X.shape)\n",
        "print()\n",
        "\n",
        "vert_stacked = np.vstack((A, X, X, X))\n",
        "print(vert_stacked)"
      ],
      "execution_count": 0,
      "outputs": [
        {
          "output_type": "stream",
          "text": [
            "[[10  9  8]\n",
            " [ 7  6  5]\n",
            " [ 4  3  2]] (3, 3)\n",
            "\n",
            "[[1 2 3]] (1, 3)\n",
            "\n",
            "[[10  9  8]\n",
            " [ 7  6  5]\n",
            " [ 4  3  2]\n",
            " [ 1  2  3]\n",
            " [ 1  2  3]\n",
            " [ 1  2  3]]\n"
          ],
          "name": "stdout"
        }
      ]
    },
    {
      "cell_type": "code",
      "metadata": {
        "id": "sFcpjMDKjpAs",
        "colab_type": "code",
        "outputId": "51a96514-6286-425b-90f5-ce821366e426",
        "colab": {
          "base_uri": "https://localhost:8080/",
          "height": 208
        }
      },
      "source": [
        "print(A, A.shape)\n",
        "print()\n",
        "print(X_trans, X_trans.shape)\n",
        "print()\n",
        "\n",
        "hrztl_stacked = np.hstack((A, X_trans))\n",
        "print(hrztl_stacked)"
      ],
      "execution_count": 0,
      "outputs": [
        {
          "output_type": "stream",
          "text": [
            "[[10  9  8]\n",
            " [ 7  6  5]\n",
            " [ 4  3  2]] (3, 3)\n",
            "\n",
            "[[1]\n",
            " [2]\n",
            " [3]] (3, 1)\n",
            "\n",
            "[[10  9  8  1]\n",
            " [ 7  6  5  2]\n",
            " [ 4  3  2  3]]\n"
          ],
          "name": "stdout"
        }
      ]
    },
    {
      "cell_type": "code",
      "metadata": {
        "id": "i7I8dAeYnW2m",
        "colab_type": "code",
        "outputId": "245bc352-c97d-419c-b411-b2be18fbd2d4",
        "colab": {
          "base_uri": "https://localhost:8080/",
          "height": 416
        }
      },
      "source": [
        "print(hrztl_stacked, hrztl_stacked.shape)\n",
        "print()\n",
        "\n",
        "resized_matrix = np.resize(hrztl_stacked, (6,2))\n",
        "print(resized_matrix, resized_matrix.shape)\n",
        "print()\n",
        "\n",
        "resized_matrix = np.resize(hrztl_stacked, (12, 1))\n",
        "print(resized_matrix, resized_matrix.shape)"
      ],
      "execution_count": 0,
      "outputs": [
        {
          "output_type": "stream",
          "text": [
            "[[10  9  8  1]\n",
            " [ 7  6  5  2]\n",
            " [ 4  3  2  3]] (3, 4)\n",
            "\n",
            "[[10  9]\n",
            " [ 8  1]\n",
            " [ 7  6]\n",
            " [ 5  2]\n",
            " [ 4  3]\n",
            " [ 2  3]] (6, 2)\n",
            "\n",
            "[[10]\n",
            " [ 9]\n",
            " [ 8]\n",
            " [ 1]\n",
            " [ 7]\n",
            " [ 6]\n",
            " [ 5]\n",
            " [ 2]\n",
            " [ 4]\n",
            " [ 3]\n",
            " [ 2]\n",
            " [ 3]] (12, 1)\n"
          ],
          "name": "stdout"
        }
      ]
    },
    {
      "cell_type": "code",
      "metadata": {
        "id": "Yszcgc-VnWyX",
        "colab_type": "code",
        "outputId": "f3634a57-afd9-410c-de45-6de816521187",
        "colab": {
          "base_uri": "https://localhost:8080/",
          "height": 34
        }
      },
      "source": [
        "print(np.linalg.det(B)) # Determinant of matrix B"
      ],
      "execution_count": 0,
      "outputs": [
        {
          "output_type": "stream",
          "text": [
            "-3696.0\n"
          ],
          "name": "stdout"
        }
      ]
    },
    {
      "cell_type": "code",
      "metadata": {
        "id": "qmJRflCYjo92",
        "colab_type": "code",
        "outputId": "454c55c8-f72e-4316-8073-8638f505691c",
        "colab": {
          "base_uri": "https://localhost:8080/",
          "height": 208
        }
      },
      "source": [
        "print(B)\n",
        "print()\n",
        "\n",
        "B_inv = np.linalg.inv(B)\n",
        "print(B_inv)\n",
        "print()\n",
        "\n",
        "print((B_inv @ B).round(0))"
      ],
      "execution_count": 0,
      "outputs": [
        {
          "output_type": "stream",
          "text": [
            "[[11 22 33]\n",
            " [54 12 10]\n",
            " [ 5  4  9]]\n",
            "\n",
            "[[-0.01839827  0.01785714  0.04761905]\n",
            " [ 0.11796537  0.01785714 -0.45238095]\n",
            " [-0.04220779 -0.01785714  0.28571429]]\n",
            "\n",
            "[[ 1.  0.  0.]\n",
            " [-0.  1. -0.]\n",
            " [ 0.  0.  1.]]\n"
          ],
          "name": "stdout"
        }
      ]
    },
    {
      "cell_type": "code",
      "metadata": {
        "id": "uEnFfgEJjo5y",
        "colab_type": "code",
        "outputId": "be4c30ef-b563-4c8d-a8f3-ff67ab4bb52a",
        "colab": {
          "base_uri": "https://localhost:8080/",
          "height": 295
        }
      },
      "source": [
        "print(np.log(B), '\\n')\n",
        "print(np.sin(B), '\\n')\n",
        "print(np.tan(B), '\\n')\n",
        "print(np.exp(B), '\\n')"
      ],
      "execution_count": 0,
      "outputs": [
        {
          "output_type": "stream",
          "text": [
            "[[2.39789527 3.09104245 3.49650756]\n",
            " [3.98898405 2.48490665 2.30258509]\n",
            " [1.60943791 1.38629436 2.19722458]] \n",
            "\n",
            "[[-0.99999021 -0.00885131  0.99991186]\n",
            " [-0.55878905 -0.53657292 -0.54402111]\n",
            " [-0.95892427 -0.7568025   0.41211849]] \n",
            "\n",
            "[[-2.25950846e+02  8.85165604e-03 -7.53130148e+01]\n",
            " [ 6.73800101e-01 -6.35859929e-01  6.48360827e-01]\n",
            " [-3.38051501e+00  1.15782128e+00 -4.52315659e-01]] \n",
            "\n",
            "[[5.98741417e+04 3.58491285e+09 2.14643580e+14]\n",
            " [2.83075330e+23 1.62754791e+05 2.20264658e+04]\n",
            " [1.48413159e+02 5.45981500e+01 8.10308393e+03]] \n",
            "\n"
          ],
          "name": "stdout"
        }
      ]
    },
    {
      "cell_type": "code",
      "metadata": {
        "id": "mdkp08YEwKdD",
        "colab_type": "code",
        "outputId": "d2984ec0-b5ba-4df1-ff25-1108886f0e81",
        "colab": {
          "base_uri": "https://localhost:8080/",
          "height": 330
        }
      },
      "source": [
        "print(A, A.shape, '\\n')\n",
        "\n",
        "print(\"Sum:\")\n",
        "print(A.sum())\n",
        "print(A.sum(axis=0)) # (0,Column)\n",
        "print(A.sum(axis=1)) # (Row, 1)\n",
        "\n",
        "print(\"\\nMax:\")\n",
        "print(A.max())\n",
        "print(A.max(axis=0))\n",
        "print(A.max(axis=1))\n",
        "\n",
        "print(\"\\nMin:\")\n",
        "print(A.min())\n",
        "print(A.min(axis=0))\n",
        "print(A.min(axis=1))"
      ],
      "execution_count": 0,
      "outputs": [
        {
          "output_type": "stream",
          "text": [
            "[[10  9  8]\n",
            " [ 7  6  5]\n",
            " [ 4  3  2]] (3, 3) \n",
            "\n",
            "Sum:\n",
            "54\n",
            "[21 18 15]\n",
            "[27 18  9]\n",
            "\n",
            "Max:\n",
            "10\n",
            "[10  9  8]\n",
            "[10  7  4]\n",
            "\n",
            "Min:\n",
            "2\n",
            "[4 3 2]\n",
            "[8 5 2]\n"
          ],
          "name": "stdout"
        }
      ]
    },
    {
      "cell_type": "markdown",
      "metadata": {
        "id": "1lXWhmlFhDng",
        "colab_type": "text"
      },
      "source": [
        "# Vector Products\n",
        "\n",
        "Vectors are basically [Tensors](https://www.youtube.com/watch?v=f5liqUk0ZTw) of rank 1"
      ]
    },
    {
      "cell_type": "code",
      "metadata": {
        "id": "kd4OtQs0X-hV",
        "colab_type": "code",
        "outputId": "880b210d-04bd-40ed-bbe0-341f14c65de9",
        "colab": {
          "base_uri": "https://localhost:8080/",
          "height": 139
        }
      },
      "source": [
        "x1 = np.array([[1], [2], [3]]) # Column Matrix\n",
        "x2 = np.array([[4, 5, 6]]) # Row Matrix\n",
        "\n",
        "print(x1, '\\n')\n",
        "print(x2, '\\n')\n",
        "print(x1.shape, x2.shape)"
      ],
      "execution_count": 0,
      "outputs": [
        {
          "output_type": "stream",
          "text": [
            "[[1]\n",
            " [2]\n",
            " [3]] \n",
            "\n",
            "[[4 5 6]] \n",
            "\n",
            "(3, 1) (1, 3)\n"
          ],
          "name": "stdout"
        }
      ]
    },
    {
      "cell_type": "markdown",
      "metadata": {
        "id": "LvZXh5SkhppF",
        "colab_type": "text"
      },
      "source": [
        "## Vector Outer product \n",
        "---\n",
        "\n",
        "`Consider the following column matrices (or) vectors`\n",
        "\n",
        "\n",
        "$\\vec{X} = \\begin{pmatrix} x_1\\\\ x_2\\\\ x_3 \\end{pmatrix}$\n",
        "\n",
        "\n",
        "$\\vec{Y} = \\begin{pmatrix} y_1\\\\ y_2\\\\ y_3 \\end{pmatrix}$\n",
        "\n",
        "$\\vec{X} \\vec{Y}^T = \\begin{pmatrix} x_1\\\\ x_2\\\\ x_3 \\end{pmatrix}\\begin{pmatrix} y_1 & y_2 & y_3 \\end{pmatrix}  = \\begin{pmatrix} x_1y_1 & x_1y_2 & x_1y_3 \\\\ x_2y_1 & x_2y_2 & x_2y_3 \\\\ x_3y_1 & x_3y_2 & x_3y_3 \\end{pmatrix}$"
      ]
    },
    {
      "cell_type": "code",
      "metadata": {
        "id": "XWDRHPkfX-Zl",
        "colab_type": "code",
        "outputId": "d6186b95-9e49-4891-d6ef-ccb4fbf16f6d",
        "colab": {
          "base_uri": "https://localhost:8080/",
          "height": 69
        }
      },
      "source": [
        "# Vector Outer Product\n",
        "\n",
        "print(x1 @ x2) # np array of shape (3, 3)\n",
        "# (3, 1) @ (1, 3)"
      ],
      "execution_count": 0,
      "outputs": [
        {
          "output_type": "stream",
          "text": [
            "[[ 4  5  6]\n",
            " [ 8 10 12]\n",
            " [12 15 18]]\n"
          ],
          "name": "stdout"
        }
      ]
    },
    {
      "cell_type": "markdown",
      "metadata": {
        "id": "iLyufqIna35b",
        "colab_type": "text"
      },
      "source": [
        "## Vector Inner product (or) Dot product between two vectors\n",
        "---\n",
        "\n",
        "`Consider the following column matrices (or) vectors`\n",
        "\n",
        "\n",
        "$\\vec{X} = \\begin{pmatrix} x_1\\\\ x_2\\\\ x_3 \\end{pmatrix}$\n",
        "\n",
        "\n",
        "$\\vec{Y} = \\begin{pmatrix} y_1\\\\ y_2\\\\ y_3 \\end{pmatrix}$\n",
        "\n",
        "$\\vec{X} \\cdot \\vec{Y} = x_1y_1 + x_2y_2  + x_3y_3$\n",
        "\n",
        "`Formula for dot product in vector algebra` \n",
        "\n",
        "$\\vec{X}^T \\vec{Y} = \\begin{pmatrix} x_1 & x_2 & x_3 \\end{pmatrix}\\begin{pmatrix} y_1\\\\ y_2\\\\ y_3 \\end{pmatrix} $"
      ]
    },
    {
      "cell_type": "code",
      "metadata": {
        "id": "VGMl2FyGX-P6",
        "colab_type": "code",
        "outputId": "78ce89e5-03e3-4070-d6da-a06d1ec1daff",
        "colab": {
          "base_uri": "https://localhost:8080/",
          "height": 34
        }
      },
      "source": [
        "# Vector Inner Product (or) Dot product of two vectors\n",
        "\n",
        "print(x2 @ x1) # np array of shape (1, 1)\n",
        "# (1, 3) @ (3, 1)"
      ],
      "execution_count": 0,
      "outputs": [
        {
          "output_type": "stream",
          "text": [
            "[[32]]\n"
          ],
          "name": "stdout"
        }
      ]
    },
    {
      "cell_type": "markdown",
      "metadata": {
        "id": "1_eYrZaVl2FA",
        "colab_type": "text"
      },
      "source": [
        "# Broadcasting in NumPy\n",
        "![alt text](https://jakevdp.github.io/PythonDataScienceHandbook/figures/02.05-broadcasting.png)"
      ]
    },
    {
      "cell_type": "code",
      "metadata": {
        "id": "ax_Pm6jxmVWg",
        "colab_type": "code",
        "outputId": "6c012960-b119-4c03-9c65-ce8188e27b92",
        "colab": {
          "base_uri": "https://localhost:8080/",
          "height": 191
        }
      },
      "source": [
        "A = np.array([[1, 2, 3], [4, 5, 6], [7, 8, 9]])\n",
        "X = np.array([[1, 1, 1]])\n",
        "Y = np.array([[2], [2], [2]])\n",
        "\n",
        "print(A, A.shape, '\\n')\n",
        "print(X, X.shape, '\\n')\n",
        "print(Y, Y.shape, '\\n')"
      ],
      "execution_count": 0,
      "outputs": [
        {
          "output_type": "stream",
          "text": [
            "[[1 2 3]\n",
            " [4 5 6]\n",
            " [7 8 9]] (3, 3) \n",
            "\n",
            "[[1 1 1]] (1, 3) \n",
            "\n",
            "[[2]\n",
            " [2]\n",
            " [2]] (3, 1) \n",
            "\n"
          ],
          "name": "stdout"
        }
      ]
    },
    {
      "cell_type": "code",
      "metadata": {
        "id": "kcvz8qXpmVSN",
        "colab_type": "code",
        "outputId": "3dc09664-170b-468e-e7a2-ad9f841c8e4e",
        "colab": {
          "base_uri": "https://localhost:8080/",
          "height": 69
        }
      },
      "source": [
        "print(A + 10)"
      ],
      "execution_count": 0,
      "outputs": [
        {
          "output_type": "stream",
          "text": [
            "[[11 12 13]\n",
            " [14 15 16]\n",
            " [17 18 19]]\n"
          ],
          "name": "stdout"
        }
      ]
    },
    {
      "cell_type": "code",
      "metadata": {
        "id": "n_5HdWvlmVPT",
        "colab_type": "code",
        "outputId": "8327f1de-01c6-4580-e747-f7d26149b760",
        "colab": {
          "base_uri": "https://localhost:8080/",
          "height": 69
        }
      },
      "source": [
        "print(A + X)"
      ],
      "execution_count": 0,
      "outputs": [
        {
          "output_type": "stream",
          "text": [
            "[[ 2  3  4]\n",
            " [ 5  6  7]\n",
            " [ 8  9 10]]\n"
          ],
          "name": "stdout"
        }
      ]
    },
    {
      "cell_type": "code",
      "metadata": {
        "id": "tEhKCStNmVL4",
        "colab_type": "code",
        "outputId": "d0ebb9d4-61ed-48e3-e4f0-fdcec5153e02",
        "colab": {
          "base_uri": "https://localhost:8080/",
          "height": 69
        }
      },
      "source": [
        "print(A + Y)"
      ],
      "execution_count": 0,
      "outputs": [
        {
          "output_type": "stream",
          "text": [
            "[[ 3  4  5]\n",
            " [ 6  7  8]\n",
            " [ 9 10 11]]\n"
          ],
          "name": "stdout"
        }
      ]
    },
    {
      "cell_type": "code",
      "metadata": {
        "id": "rbHYnPcMmVJL",
        "colab_type": "code",
        "outputId": "71cde6d7-a1c8-4479-944e-8f400c2d1396",
        "colab": {
          "base_uri": "https://localhost:8080/",
          "height": 69
        }
      },
      "source": [
        "print(X + Y)"
      ],
      "execution_count": 0,
      "outputs": [
        {
          "output_type": "stream",
          "text": [
            "[[3 3 3]\n",
            " [3 3 3]\n",
            " [3 3 3]]\n"
          ],
          "name": "stdout"
        }
      ]
    },
    {
      "cell_type": "markdown",
      "metadata": {
        "id": "GPzYo4-Rl15-",
        "colab_type": "text"
      },
      "source": [
        "# Other np methods"
      ]
    },
    {
      "cell_type": "code",
      "metadata": {
        "id": "B6Ki-FZ1mWMe",
        "colab_type": "code",
        "outputId": "e2344b16-5746-4468-8027-9ad4e35d2316",
        "colab": {
          "base_uri": "https://localhost:8080/",
          "height": 86
        }
      },
      "source": [
        "A = np.arange(10)\n",
        "print(A)\n",
        "\n",
        "print(np.resize(A, (3,3)))"
      ],
      "execution_count": 0,
      "outputs": [
        {
          "output_type": "stream",
          "text": [
            "[0 1 2 3 4 5 6 7 8 9]\n",
            "[[0 1 2]\n",
            " [3 4 5]\n",
            " [6 7 8]]\n"
          ],
          "name": "stdout"
        }
      ]
    },
    {
      "cell_type": "code",
      "metadata": {
        "id": "Ohpc_al6mWI4",
        "colab_type": "code",
        "outputId": "240d4794-4444-44fa-83fa-cd4e470964db",
        "colab": {
          "base_uri": "https://localhost:8080/",
          "height": 52
        }
      },
      "source": [
        "A = np.zeros((2,4))\n",
        "print(A)"
      ],
      "execution_count": 0,
      "outputs": [
        {
          "output_type": "stream",
          "text": [
            "[[0. 0. 0. 0.]\n",
            " [0. 0. 0. 0.]]\n"
          ],
          "name": "stdout"
        }
      ]
    },
    {
      "cell_type": "code",
      "metadata": {
        "id": "Bbi0SWb0mWGT",
        "colab_type": "code",
        "outputId": "de2eda98-e000-44dc-c503-cb9809f6f2a2",
        "colab": {
          "base_uri": "https://localhost:8080/",
          "height": 52
        }
      },
      "source": [
        "A = np.ones((2,4))\n",
        "print(A)"
      ],
      "execution_count": 0,
      "outputs": [
        {
          "output_type": "stream",
          "text": [
            "[[1. 1. 1. 1.]\n",
            " [1. 1. 1. 1.]]\n"
          ],
          "name": "stdout"
        }
      ]
    },
    {
      "cell_type": "code",
      "metadata": {
        "id": "NPjXV20YmWD5",
        "colab_type": "code",
        "outputId": "80cd2148-1a11-4911-d255-e0dbbc08dfef",
        "colab": {
          "base_uri": "https://localhost:8080/",
          "height": 104
        }
      },
      "source": [
        "I = np.eye(5)\n",
        "print(I)"
      ],
      "execution_count": 0,
      "outputs": [
        {
          "output_type": "stream",
          "text": [
            "[[1. 0. 0. 0. 0.]\n",
            " [0. 1. 0. 0. 0.]\n",
            " [0. 0. 1. 0. 0.]\n",
            " [0. 0. 0. 1. 0.]\n",
            " [0. 0. 0. 0. 1.]]\n"
          ],
          "name": "stdout"
        }
      ]
    },
    {
      "cell_type": "code",
      "metadata": {
        "id": "cRRiYKHHy9zs",
        "colab_type": "code",
        "outputId": "55fd1ae2-4c99-4aaf-c23e-b65fa39203a5",
        "colab": {
          "base_uri": "https://localhost:8080/",
          "height": 52
        }
      },
      "source": [
        "A = np.random.random((2,2)) # 0-1\n",
        "print(A)"
      ],
      "execution_count": 0,
      "outputs": [
        {
          "output_type": "stream",
          "text": [
            "[[0.69136863 0.13426644]\n",
            " [0.45175937 0.26763366]]\n"
          ],
          "name": "stdout"
        }
      ]
    },
    {
      "cell_type": "markdown",
      "metadata": {
        "id": "21-PpzZrmRvE",
        "colab_type": "text"
      },
      "source": [
        "# References\n",
        "*  [**What is a Tensor {important}**](https://www.youtube.com/watch?v=f5liqUk0ZTw)\n",
        "*  [Video on vector products](https://www.youtube.com/watch?v=FCmH4MqbFGs)\n",
        "*  [NumPy Documentation](https://numpy.org/)\n",
        "*  [NumPy Tutorial by `Justin Johnson`](http://cs231n.github.io/python-numpy-tutorial/#numpy)\n",
        "*  [Essence of Linear Algebra](https://www.youtube.com/playlist?list=PLZHQObOWTQDPD3MizzM2xVFitgF8hE_ab)  \n"
      ]
    }
  ]
}