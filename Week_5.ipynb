{
  "nbformat": 4,
  "nbformat_minor": 0,
  "metadata": {
    "colab": {
      "name": "Week 5.ipynb",
      "provenance": [],
      "authorship_tag": "ABX9TyPZmsIRm8bhelex27iRyDUb"
    },
    "kernelspec": {
      "name": "python3",
      "display_name": "Python 3"
    },
    "accelerator": "GPU",
    "widgets": {
      "application/vnd.jupyter.widget-state+json": {
        "8a865aff8181441dbec786b7ece79b5f": {
          "model_module": "@jupyter-widgets/controls",
          "model_name": "HBoxModel",
          "state": {
            "_view_name": "HBoxView",
            "_dom_classes": [],
            "_model_name": "HBoxModel",
            "_view_module": "@jupyter-widgets/controls",
            "_model_module_version": "1.5.0",
            "_view_count": null,
            "_view_module_version": "1.5.0",
            "box_style": "",
            "layout": "IPY_MODEL_635ec024829b486785aaee2c1dfdd150",
            "_model_module": "@jupyter-widgets/controls",
            "children": [
              "IPY_MODEL_c2a9255ec7d446d9aca442b132da57bb",
              "IPY_MODEL_3fc8d26e7185408d8d946811847ace50"
            ]
          }
        },
        "635ec024829b486785aaee2c1dfdd150": {
          "model_module": "@jupyter-widgets/base",
          "model_name": "LayoutModel",
          "state": {
            "_view_name": "LayoutView",
            "grid_template_rows": null,
            "right": null,
            "justify_content": null,
            "_view_module": "@jupyter-widgets/base",
            "overflow": null,
            "_model_module_version": "1.2.0",
            "_view_count": null,
            "flex_flow": null,
            "width": null,
            "min_width": null,
            "border": null,
            "align_items": null,
            "bottom": null,
            "_model_module": "@jupyter-widgets/base",
            "top": null,
            "grid_column": null,
            "overflow_y": null,
            "overflow_x": null,
            "grid_auto_flow": null,
            "grid_area": null,
            "grid_template_columns": null,
            "flex": null,
            "_model_name": "LayoutModel",
            "justify_items": null,
            "grid_row": null,
            "max_height": null,
            "align_content": null,
            "visibility": null,
            "align_self": null,
            "height": null,
            "min_height": null,
            "padding": null,
            "grid_auto_rows": null,
            "grid_gap": null,
            "max_width": null,
            "order": null,
            "_view_module_version": "1.2.0",
            "grid_template_areas": null,
            "object_position": null,
            "object_fit": null,
            "grid_auto_columns": null,
            "margin": null,
            "display": null,
            "left": null
          }
        },
        "c2a9255ec7d446d9aca442b132da57bb": {
          "model_module": "@jupyter-widgets/controls",
          "model_name": "FloatProgressModel",
          "state": {
            "_view_name": "ProgressView",
            "style": "IPY_MODEL_7189f4a2898846d4815f043e0bd7918e",
            "_dom_classes": [],
            "description": "Training:   0%",
            "_model_name": "FloatProgressModel",
            "bar_style": "",
            "max": 250,
            "_view_module": "@jupyter-widgets/controls",
            "_model_module_version": "1.5.0",
            "value": 0,
            "_view_count": null,
            "_view_module_version": "1.5.0",
            "orientation": "horizontal",
            "min": 0,
            "description_tooltip": null,
            "_model_module": "@jupyter-widgets/controls",
            "layout": "IPY_MODEL_83a453878d1c453d9d849af508a718fa"
          }
        },
        "3fc8d26e7185408d8d946811847ace50": {
          "model_module": "@jupyter-widgets/controls",
          "model_name": "HTMLModel",
          "state": {
            "_view_name": "HTMLView",
            "style": "IPY_MODEL_71d706d0f4fa4ad9ab0e373a7e28e0eb",
            "_dom_classes": [],
            "description": "",
            "_model_name": "HTMLModel",
            "placeholder": "​",
            "_view_module": "@jupyter-widgets/controls",
            "_model_module_version": "1.5.0",
            "value": " 0/250 [00:00&lt;?, ?it/s]",
            "_view_count": null,
            "_view_module_version": "1.5.0",
            "description_tooltip": null,
            "_model_module": "@jupyter-widgets/controls",
            "layout": "IPY_MODEL_60f92b765824441cbaaf6d26485bed27"
          }
        },
        "7189f4a2898846d4815f043e0bd7918e": {
          "model_module": "@jupyter-widgets/controls",
          "model_name": "ProgressStyleModel",
          "state": {
            "_view_name": "StyleView",
            "_model_name": "ProgressStyleModel",
            "description_width": "initial",
            "_view_module": "@jupyter-widgets/base",
            "_model_module_version": "1.5.0",
            "_view_count": null,
            "_view_module_version": "1.2.0",
            "bar_color": null,
            "_model_module": "@jupyter-widgets/controls"
          }
        },
        "83a453878d1c453d9d849af508a718fa": {
          "model_module": "@jupyter-widgets/base",
          "model_name": "LayoutModel",
          "state": {
            "_view_name": "LayoutView",
            "grid_template_rows": null,
            "right": null,
            "justify_content": null,
            "_view_module": "@jupyter-widgets/base",
            "overflow": null,
            "_model_module_version": "1.2.0",
            "_view_count": null,
            "flex_flow": null,
            "width": null,
            "min_width": null,
            "border": null,
            "align_items": null,
            "bottom": null,
            "_model_module": "@jupyter-widgets/base",
            "top": null,
            "grid_column": null,
            "overflow_y": null,
            "overflow_x": null,
            "grid_auto_flow": null,
            "grid_area": null,
            "grid_template_columns": null,
            "flex": null,
            "_model_name": "LayoutModel",
            "justify_items": null,
            "grid_row": null,
            "max_height": null,
            "align_content": null,
            "visibility": null,
            "align_self": null,
            "height": null,
            "min_height": null,
            "padding": null,
            "grid_auto_rows": null,
            "grid_gap": null,
            "max_width": null,
            "order": null,
            "_view_module_version": "1.2.0",
            "grid_template_areas": null,
            "object_position": null,
            "object_fit": null,
            "grid_auto_columns": null,
            "margin": null,
            "display": null,
            "left": null
          }
        },
        "71d706d0f4fa4ad9ab0e373a7e28e0eb": {
          "model_module": "@jupyter-widgets/controls",
          "model_name": "DescriptionStyleModel",
          "state": {
            "_view_name": "StyleView",
            "_model_name": "DescriptionStyleModel",
            "description_width": "",
            "_view_module": "@jupyter-widgets/base",
            "_model_module_version": "1.5.0",
            "_view_count": null,
            "_view_module_version": "1.2.0",
            "_model_module": "@jupyter-widgets/controls"
          }
        },
        "60f92b765824441cbaaf6d26485bed27": {
          "model_module": "@jupyter-widgets/base",
          "model_name": "LayoutModel",
          "state": {
            "_view_name": "LayoutView",
            "grid_template_rows": null,
            "right": null,
            "justify_content": null,
            "_view_module": "@jupyter-widgets/base",
            "overflow": null,
            "_model_module_version": "1.2.0",
            "_view_count": null,
            "flex_flow": null,
            "width": null,
            "min_width": null,
            "border": null,
            "align_items": null,
            "bottom": null,
            "_model_module": "@jupyter-widgets/base",
            "top": null,
            "grid_column": null,
            "overflow_y": null,
            "overflow_x": null,
            "grid_auto_flow": null,
            "grid_area": null,
            "grid_template_columns": null,
            "flex": null,
            "_model_name": "LayoutModel",
            "justify_items": null,
            "grid_row": null,
            "max_height": null,
            "align_content": null,
            "visibility": null,
            "align_self": null,
            "height": null,
            "min_height": null,
            "padding": null,
            "grid_auto_rows": null,
            "grid_gap": null,
            "max_width": null,
            "order": null,
            "_view_module_version": "1.2.0",
            "grid_template_areas": null,
            "object_position": null,
            "object_fit": null,
            "grid_auto_columns": null,
            "margin": null,
            "display": null,
            "left": null
          }
        }
      }
    }
  },
  "cells": [
    {
      "cell_type": "code",
      "metadata": {
        "id": "9KVQYrltkKpK",
        "colab_type": "code",
        "colab": {}
      },
      "source": [
        "import numpy as np\n",
        "import pandas as pd\n",
        "import matplotlib.pyplot as plt\n",
        "import torch\n",
        "import torch.nn as nn\n",
        "import torch.optim as optim\n",
        "import torchvision\n",
        "from torchvision.datasets import FashionMNIST\n",
        "from torch.utils.data import DataLoader\n",
        "import torchvision.transforms as transforms\n",
        "from torchvision.utils import make_grid\n",
        "import os\n",
        "from tqdm.notebook import tqdm\n",
        "import warnings\n",
        "warnings.filterwarnings('ignore')\n"
      ],
      "execution_count": 0,
      "outputs": []
    },
    {
      "cell_type": "code",
      "metadata": {
        "id": "D57hTncMkSwE",
        "colab_type": "code",
        "colab": {}
      },
      "source": [
        "transform = transforms.Compose([\n",
        "     transforms.ToTensor(),\n",
        "     transforms.Normalize(mean=0,std=1)                          \n",
        "     ])\n",
        "train_dataset = FashionMNIST(train=True, transform=transform, root=os.getcwd(), download=True)\n",
        "test_dataset =  FashionMNIST(train=False, transform=transform, root=os.getcwd(), download=True)\n"
      ],
      "execution_count": 0,
      "outputs": []
    },
    {
      "cell_type": "code",
      "metadata": {
        "id": "cy58EKtvkSot",
        "colab_type": "code",
        "outputId": "a7e65cbb-e907-4e8a-e733-dd0d89f1b663",
        "colab": {
          "base_uri": "https://localhost:8080/",
          "height": 319
        }
      },
      "source": [
        "print(\"Train datset:\", train_dataset)\n",
        "print(\"Test dataset:\", test_dataset)\n"
      ],
      "execution_count": 0,
      "outputs": [
        {
          "output_type": "stream",
          "text": [
            "Train datset: Dataset FashionMNIST\n",
            "    Number of datapoints: 60000\n",
            "    Root location: /content\n",
            "    Split: Train\n",
            "    StandardTransform\n",
            "Transform: Compose(\n",
            "               ToTensor()\n",
            "               Normalize(mean=0, std=1)\n",
            "           )\n",
            "Test dataset: Dataset FashionMNIST\n",
            "    Number of datapoints: 10000\n",
            "    Root location: /content\n",
            "    Split: Test\n",
            "    StandardTransform\n",
            "Transform: Compose(\n",
            "               ToTensor()\n",
            "               Normalize(mean=0, std=1)\n",
            "           )\n"
          ],
          "name": "stdout"
        }
      ]
    },
    {
      "cell_type": "code",
      "metadata": {
        "id": "Af6irRRmkShI",
        "colab_type": "code",
        "colab": {}
      },
      "source": [
        "train_loader = DataLoader(train_dataset,\n",
        "                          batch_size=16,\n",
        "                          shuffle=True,\n",
        "                          num_workers=4)\n",
        "test_loader = DataLoader(test_dataset,\n",
        "                         batch_size=16,\n",
        "                          shuffle=True,\n",
        "                          num_workers=4)\n"
      ],
      "execution_count": 0,
      "outputs": []
    },
    {
      "cell_type": "code",
      "metadata": {
        "id": "20MhntMrkSYq",
        "colab_type": "code",
        "outputId": "dcf318b9-fa09-4445-a8e4-38e88b28032b",
        "colab": {
          "base_uri": "https://localhost:8080/",
          "height": 50
        }
      },
      "source": [
        "train_iterator = iter(train_loader)\n",
        "train_batch = next(train_iterator)\n",
        "for item in train_batch:\n",
        "  print(item.size())"
      ],
      "execution_count": 0,
      "outputs": [
        {
          "output_type": "stream",
          "text": [
            "torch.Size([16, 1, 28, 28])\n",
            "torch.Size([16])\n"
          ],
          "name": "stdout"
        }
      ]
    },
    {
      "cell_type": "code",
      "metadata": {
        "id": "G462IFj4kSOC",
        "colab_type": "code",
        "colab": {}
      },
      "source": [
        "def plot_images(batch):\n",
        "  img_grid = make_grid(batch[0], nrow=4)\n",
        "  img_np = img_grid.numpy()\n",
        "  img_np = np.transpose(img_np,(1,2,0))\n",
        "  plt.figure(figsize=(8,8))\n",
        "  plt.imshow(img_np)\n",
        "  plt.title(batch[1])\n",
        "  plt.xticks([])\n",
        "  plt.yticks([])\n",
        "  plt.plot()"
      ],
      "execution_count": 0,
      "outputs": []
    },
    {
      "cell_type": "code",
      "metadata": {
        "id": "fsNY-RagkSGp",
        "colab_type": "code",
        "outputId": "ee367c30-0d5a-4cf9-afc7-7107bcc58ef0",
        "colab": {
          "base_uri": "https://localhost:8080/",
          "height": 485
        }
      },
      "source": [
        "plot_images(train_batch)"
      ],
      "execution_count": 0,
      "outputs": [
        {
          "output_type": "display_data",
          "data": {
            "image/png": "[encoded data removed]",
            "text/plain": [
              "<Figure size 576x576 with 1 Axes>"
            ]
          },
          "metadata": {
            "tags": []
          }
        }
      ]
    },
    {
      "cell_type": "code",
      "metadata": {
        "id": "_2TED8ykkR_a",
        "colab_type": "code",
        "outputId": "1e4fadf1-8706-489a-a7e5-6a56019615a1",
        "colab": {
          "base_uri": "https://localhost:8080/",
          "height": 34
        }
      },
      "source": [
        "flatten=nn.Flatten()\n",
        "flatten(train_batch[0]).size()"
      ],
      "execution_count": 0,
      "outputs": [
        {
          "output_type": "execute_result",
          "data": {
            "text/plain": [
              "torch.Size([16, 784])"
            ]
          },
          "metadata": {
            "tags": []
          },
          "execution_count": 120
        }
      ]
    },
    {
      "cell_type": "code",
      "metadata": {
        "id": "Oi3eAb_NkR38",
        "colab_type": "code",
        "outputId": "e8c91cfd-d298-44ae-f84e-e5230e39ba54",
        "colab": {
          "base_uri": "https://localhost:8080/",
          "height": 202
        }
      },
      "source": [
        "model = nn.Sequential(\n",
        "    nn.Flatten(),\n",
        "    nn.Linear(in_features=784, out_features=512),\n",
        "    nn.ReLU(),\n",
        "    nn.Linear(in_features=512, out_features=512),\n",
        "    nn.ReLU(),\n",
        "    nn.Linear(in_features=512, out_features=256),\n",
        "    nn.ReLU(),\n",
        "    nn.Linear(in_features=256, out_features=10),\n",
        "    nn.Softmax(dim=1)\n",
        ")\n",
        "model"
      ],
      "execution_count": 0,
      "outputs": [
        {
          "output_type": "execute_result",
          "data": {
            "text/plain": [
              "Sequential(\n",
              "  (0): Flatten()\n",
              "  (1): Linear(in_features=784, out_features=512, bias=True)\n",
              "  (2): ReLU()\n",
              "  (3): Linear(in_features=512, out_features=512, bias=True)\n",
              "  (4): ReLU()\n",
              "  (5): Linear(in_features=512, out_features=256, bias=True)\n",
              "  (6): ReLU()\n",
              "  (7): Linear(in_features=256, out_features=10, bias=True)\n",
              "  (8): Softmax(dim=1)\n",
              ")"
            ]
          },
          "metadata": {
            "tags": []
          },
          "execution_count": 121
        }
      ]
    },
    {
      "cell_type": "code",
      "metadata": {
        "id": "WpMfTV1okRwP",
        "colab_type": "code",
        "outputId": "45caed0d-8bf0-4b44-e5be-18473dba474a",
        "colab": {
          "base_uri": "https://localhost:8080/",
          "height": 34
        }
      },
      "source": [
        "pred_batch = model(train_batch[0])\n",
        "print(pred_batch.size())"
      ],
      "execution_count": 0,
      "outputs": [
        {
          "output_type": "stream",
          "text": [
            "torch.Size([16, 10])\n"
          ],
          "name": "stdout"
        }
      ]
    },
    {
      "cell_type": "code",
      "metadata": {
        "id": "HGINpmuRkRms",
        "colab_type": "code",
        "outputId": "f9784d71-2304-49b9-ecc4-40a7932d2296",
        "colab": {
          "base_uri": "https://localhost:8080/",
          "height": 50
        }
      },
      "source": [
        "pred_labels = torch.argmax(pred_batch , axis=1)\n",
        "print(pred_labels)"
      ],
      "execution_count": 0,
      "outputs": [
        {
          "output_type": "stream",
          "text": [
            "tensor([5, 5, 5, 5, 5, 5, 5, 5, 5, 5, 5, 5, 5, 5, 5, 5],\n",
            "       grad_fn=<NotImplemented>)\n"
          ],
          "name": "stdout"
        }
      ]
    },
    {
      "cell_type": "code",
      "metadata": {
        "id": "AhrPxlgOkRSy",
        "colab_type": "code",
        "colab": {}
      },
      "source": [
        "loss_criterion = nn.CrossEntropyLoss()\n"
      ],
      "execution_count": 0,
      "outputs": []
    },
    {
      "cell_type": "code",
      "metadata": {
        "id": "ytLtj93rk2Ce",
        "colab_type": "code",
        "outputId": "ded8122a-1060-485d-dd06-9780d25ce858",
        "colab": {
          "base_uri": "https://localhost:8080/",
          "height": 34
        }
      },
      "source": [
        "loss_criterion(pred_batch, train_batch[1])"
      ],
      "execution_count": 0,
      "outputs": [
        {
          "output_type": "execute_result",
          "data": {
            "text/plain": [
              "tensor(2.3033, grad_fn=<NllLossBackward>)"
            ]
          },
          "metadata": {
            "tags": []
          },
          "execution_count": 125
        }
      ]
    },
    {
      "cell_type": "code",
      "metadata": {
        "id": "iWL8q_W-k17I",
        "colab_type": "code",
        "colab": {}
      },
      "source": [
        "def evaluate_on_cpu(model, dataloader):\n",
        "  with torch.no_grad():\n",
        "    total, correct = 0, 0\n",
        "    for batch in dataloader:\n",
        "      images, labels = batch\n",
        "      out_probs = model(images)\n",
        "      out_labels = torch.argmax(out_probs, axis=1)\n",
        "      total += labels.size(0)\n",
        "      correct += torch.sum(labels == out_labels).item()\n",
        "    return 100 * correct/total\n",
        "def train_on_cpu(model, loss_criterion, optimizer, train_loader, test_loader, epochs=250):\n",
        "  hist = {'loss':[],\n",
        "          'train_acc':[],\n",
        "          'test_acc':[]}\n",
        "  for epoch_num in tqdm (range(1,epochs+1), desc='Training', total=epochs):\n",
        "    losses = []\n",
        "    for batch in train_loader:\n",
        "      images, labels = batch\n",
        "      optimizer.zero_grad()\n",
        "      out = model(images)\n",
        "      loss = loss_criterion(out, labels)\n",
        "      losses.append(loss.item())\n",
        "      loss.backward()\n",
        "      optimizer.step()\n",
        "    hist['loss'].append(np.array(losses).mean())\n",
        "    train_acc = evaluate_on_cpu(model, train_loader)\n",
        "    test_acc = evaluate_on_cpu(model, test_loader)\n",
        "    hist['train_acc'].append(train_acc)\n",
        "    hist['test_acc'].append(test_acc)\n",
        "  fig, ax = plt.subplots(nrow=1,ncols=2, figsize=(14,7))\n",
        "  ax[0].plot(range(1, epochs+1),hist['loss'], label='loss')\n",
        "  ax[0].grid()\n",
        "  ax[0].set_xlabel('Epochs')\n",
        "  ax[0].set_ylabel('Loss Value')\n",
        "  ax[0].set_title('Epochs vs. Loss')\n",
        "\n",
        "  ax[1].plot(range(1, epochs+1), hist['train_acc'], 'b-', label='Training accuracy')\n",
        "  ax[1].plot(range(1, epochs+1), hist['test_acc'], 'm-', label='Test accuracy')\n",
        "  ax[1].grid()\n",
        "  ax[1].set_xlabel('Epochs')\n",
        "  ax[1].set_ylabel('Accuracy')\n",
        "  ax[1].set_title('Epochs vs. Accuracy')\n",
        "  plt.show()\n",
        "\n",
        "  return model"
      ],
      "execution_count": 0,
      "outputs": []
    },
    {
      "cell_type": "code",
      "metadata": {
        "id": "mU5wc16Pk144",
        "colab_type": "code",
        "colab": {}
      },
      "source": [
        "loss_criterion = nn.CrossEntropyLoss()\n",
        "optimizer = optim.Adam(model.parameters())\n",
        "\n",
        "model = train_on_cpu(model, loss_criterion, optimizer, train_loader, test_loader)"
      ],
      "execution_count": 0,
      "outputs": []
    },
    {
      "cell_type": "code",
      "metadata": {
        "id": "s9Zh1Qagk1xl",
        "colab_type": "code",
        "outputId": "a15ec1cb-bb0f-43fc-b8ce-3c87d4f45032",
        "colab": {
          "base_uri": "https://localhost:8080/",
          "height": 34
        }
      },
      "source": [
        "device = torch.device('cuda' if torch.cuda.is_available() else 'cpu')\n",
        "print(device)   \n"
      ],
      "execution_count": 0,
      "outputs": [
        {
          "output_type": "stream",
          "text": [
            "cuda\n"
          ],
          "name": "stdout"
        }
      ]
    },
    {
      "cell_type": "code",
      "metadata": {
        "id": "VQI8gb0jk1qO",
        "colab_type": "code",
        "colab": {}
      },
      "source": [
        "def evaluate_on_gpu(model, dataloader):\n",
        "  with torch.no_grad():\n",
        "    total, correct = 0, 0\n",
        "    for batch in dataloader:\n",
        "      images, labels = batch\n",
        "      images, labels = images.to(device), labels.to(device)\n",
        "      out_probs = model(images)\n",
        "      out_labels = torch.argmax(out_probs, axis=1)\n",
        "      total += labels.size(0)\n",
        "      correct += torch.sum(labels == out_labels).item()\n",
        "    return 100 * correct/total\n",
        "def train_on_gpu(model, loss_criterion, optimizer, train_loader, test_loader, epochs=250):\n",
        "  hist = {'loss':[],\n",
        "          'train_acc':[],\n",
        "          'test_acc':[]}\n",
        "  for epoch_num in tqdm (range(1,epochs+1), desc='Training', total=epochs):\n",
        "    losses = []\n",
        "    for batch in train_loader:\n",
        "      images, labels = batch\n",
        "      images, labels = images.to(device), labels.to(device)\n",
        "      optimizer.zero_grad()\n",
        "      out = model(images)\n",
        "      loss = loss_criterion(out, labels)\n",
        "      losses.append(loss.item())\n",
        "      loss.backward()\n",
        "      optimizer.step()\n",
        "    hist['loss'].append(np.array(losses).mean())\n",
        "    train_acc = evaluate_on_gpu(model, train_loader)\n",
        "    test_acc = evaluate_on_gpu(model, test_loader)\n",
        "    hist['train_acc'].append(train_acc)\n",
        "    hist['test_acc'].append(test_acc)\n",
        "  fig, ax = plt.subplots(nrows=1,ncols=2, figsize=(14,7))\n",
        "  ax[0].plot(range(1, epochs+1),hist['loss'], label='Loss')\n",
        "  ax[0].grid()\n",
        "  ax[0].set_xlabel('Epochs')\n",
        "  ax[0].set_ylabel('Loss Value')\n",
        "  ax[0].set_title('Epochs vs. Loss')\n",
        "\n",
        "  ax[1].plot(hist['train_acc'], 'b-', label='Training accuracy')\n",
        "  ax[1].plot(hist['test_acc'], 'm-', label='Test accuracy')\n",
        "  ax[1].grid()\n",
        "  ax[1].set_xlabel('Epochs')\n",
        "  ax[1].set_ylabel('Accuracy')\n",
        "  ax[1].set_title('Epochs vs. Accuracy')\n",
        "  plt.show()\n",
        "\n",
        "  return model"
      ],
      "execution_count": 0,
      "outputs": []
    },
    {
      "cell_type": "code",
      "metadata": {
        "id": "rQnAMfoOlsmJ",
        "colab_type": "code",
        "outputId": "4103f994-17ae-4d96-db7e-b2cbb5ba1ffb",
        "colab": {
          "base_uri": "https://localhost:8080/",
          "height": 49,
          "referenced_widgets": [
            "8a865aff8181441dbec786b7ece79b5f",
            "635ec024829b486785aaee2c1dfdd150",
            "c2a9255ec7d446d9aca442b132da57bb",
            "3fc8d26e7185408d8d946811847ace50",
            "7189f4a2898846d4815f043e0bd7918e",
            "83a453878d1c453d9d849af508a718fa",
            "71d706d0f4fa4ad9ab0e373a7e28e0eb",
            "60f92b765824441cbaaf6d26485bed27"
          ]
        }
      },
      "source": [
        "model = nn.Sequential(\n",
        "    nn.Flatten(),\n",
        "\n",
        "    nn.Linear(in_features = 784 , out_features=650),\n",
        "    nn.ReLU(),\n",
        "\n",
        "    nn.Linear(in_features = 650 , out_features=420),\n",
        "    nn.ReLU(),\n",
        "\n",
        "    nn.Linear(in_features = 420 , out_features=360),\n",
        "    nn.ReLU(),\n",
        "\n",
        "    nn.Linear(in_features = 360 , out_features=230),\n",
        "    nn.ReLU(),\n",
        "\n",
        "    nn.Linear(in_features = 230 , out_features=10),\n",
        "    nn.Softmax(dim=1)\n",
        ")\n",
        "model = model.to(device)\n",
        "loss_criterion = nn.CrossEntropyLoss()\n",
        "optimizer = optim.Adam(model.parameters())\n",
        "\n",
        "model = train_on_gpu(model, loss_criterion, optimizer, train_loader, test_loader)"
      ],
      "execution_count": 0,
      "outputs": [
        {
          "output_type": "display_data",
          "data": {
            "application/vnd.jupyter.widget-view+json": {
              "model_id": "8a865aff8181441dbec786b7ece79b5f",
              "version_minor": 0,
              "version_major": 2
            },
            "text/plain": [
              "HBox(children=(FloatProgress(value=0.0, description='Training', max=250.0, style=ProgressStyle(description_wid…"
            ]
          },
          "metadata": {
            "tags": []
          }
        }
      ]
    }
  ]
}