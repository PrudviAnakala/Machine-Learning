{
  "nbformat": 4,
  "nbformat_minor": 0,
  "metadata": {
    "colab": {
      "name": "DS in Python.ipynb",
      "provenance": [],
      "collapsed_sections": [],
      "include_colab_link": true
    },
    "kernelspec": {
      "name": "python3",
      "display_name": "Python 3"
    }
  },
  "cells": [
    {
      "cell_type": "markdown",
      "metadata": {
        "id": "view-in-github",
        "colab_type": "text"
      },
      "source": [
        "<a href=\"https://colab.research.google.com/github/PrudviAnakala/Machine-Learning/blob/master/DS_in_Python.ipynb\" target=\"_parent\"><img src=\"https://colab.research.google.com/assets/colab-badge.svg\" alt=\"Open In Colab\"/></a>"
      ]
    },
    {
      "cell_type": "markdown",
      "metadata": {
        "id": "KK66JL6Wuhjx",
        "colab_type": "text"
      },
      "source": [
        "# Lists\n",
        "*  Lists are the equivalent of Linked Lists Data Structures\n",
        "*  Lists are mutable data-structures\n",
        "![alt text](https://lh3.googleusercontent.com/proxy/bkW-AeUUqmaa6-AgEq_TQl9lltUPG9NlYsRiqJQiBSbGRoybvvNuRh40peDTIsB-OgTogOe3uGmeA8dcWHAQLWZeENOpeArbQarfs9RPzkBmY3gHdFPSGL8AwUtgaxofzRdC7PE)\n",
        "\n",
        "* List indexing\n",
        "* important functions \n",
        "* Identity opertaors - is , not is\n",
        "* membership operators - in , not in\n",
        "* slice  , adding elements to a list ,adding two lists\n",
        "* split\n",
        "* map function \n",
        "\n",
        "\n"
      ]
    },
    {
      "cell_type": "code",
      "metadata": {
        "colab_type": "code",
        "outputId": "f000ee4d-a19f-404b-bf4f-2f813fcaad3a",
        "id": "_KnsrckGM49J",
        "colab": {
          "base_uri": "https://localhost:8080/",
          "height": 52
        }
      },
      "source": [
        "l=[1,2.0,3,6,8]\n",
        "print(l)\n",
        "\n",
        "l=[1,3,4,5]\n",
        "print(sum(l))"
      ],
      "execution_count": 0,
      "outputs": [
        {
          "output_type": "stream",
          "text": [
            "[1, 2.0, 3, 6, 8]\n",
            "13\n"
          ],
          "name": "stdout"
        }
      ]
    },
    {
      "cell_type": "code",
      "metadata": {
        "id": "a5rS5s2hQzNP",
        "colab_type": "code",
        "outputId": "bb0172bc-21b7-4746-f8e3-4c95d8c388eb",
        "colab": {
          "base_uri": "https://localhost:8080/",
          "height": 34
        }
      },
      "source": [
        "l.append(9)\n",
        "print(l)"
      ],
      "execution_count": 0,
      "outputs": [
        {
          "output_type": "stream",
          "text": [
            "[1, 3, 4, 5, 9]\n"
          ],
          "name": "stdout"
        }
      ]
    },
    {
      "cell_type": "code",
      "metadata": {
        "id": "6YpBuMFj8HYn",
        "colab_type": "code",
        "outputId": "789a2038-5bac-49f8-89a3-d9fa5eb64027",
        "colab": {
          "base_uri": "https://localhost:8080/",
          "height": 34
        }
      },
      "source": [
        "l=l+[8]\n",
        "l.sort()\n",
        "print(l)"
      ],
      "execution_count": 0,
      "outputs": [
        {
          "output_type": "stream",
          "text": [
            "[1, 3, 4, 5, 8, 9]\n"
          ],
          "name": "stdout"
        }
      ]
    },
    {
      "cell_type": "code",
      "metadata": {
        "id": "tq4ufw4g8Ngk",
        "colab_type": "code",
        "outputId": "57b75402-7094-4dfd-b24c-ebe380c8d0eb",
        "colab": {
          "base_uri": "https://localhost:8080/",
          "height": 34
        }
      },
      "source": [
        "l2=[[1,2],[1,5],[1,6],[1,4],[3,5],[2,6]]\n",
        "l2.sort()\n",
        "print(l2)"
      ],
      "execution_count": 0,
      "outputs": [
        {
          "output_type": "stream",
          "text": [
            "[[1, 2], [1, 4], [1, 5], [1, 6], [2, 6], [3, 5]]\n"
          ],
          "name": "stdout"
        }
      ]
    },
    {
      "cell_type": "code",
      "metadata": {
        "id": "E2xP8fIW8Uhc",
        "colab_type": "code",
        "outputId": "d7101238-511a-42a9-c52f-55d619deae5d",
        "colab": {
          "base_uri": "https://localhost:8080/",
          "height": 52
        }
      },
      "source": [
        "s=input()\n",
        "l2=list(map(float,s.split(\" \")))\n",
        "print(l2)"
      ],
      "execution_count": 0,
      "outputs": [
        {
          "output_type": "stream",
          "text": [
            "15.5 32.2 15 22.0\n",
            "[15.5, 32.2, 15.0, 22.0]\n"
          ],
          "name": "stdout"
        }
      ]
    },
    {
      "cell_type": "code",
      "metadata": {
        "id": "E6tMvm_U8Y6q",
        "colab_type": "code",
        "outputId": "7b643814-3e3c-4fac-edcb-962069db421d",
        "colab": {
          "base_uri": "https://localhost:8080/",
          "height": 121
        }
      },
      "source": [
        "for i in l:\n",
        "  print(i)"
      ],
      "execution_count": 0,
      "outputs": [
        {
          "output_type": "stream",
          "text": [
            "1\n",
            "3\n",
            "4\n",
            "5\n",
            "8\n",
            "9\n"
          ],
          "name": "stdout"
        }
      ]
    },
    {
      "cell_type": "markdown",
      "metadata": {
        "id": "WeunzT6fuh8c",
        "colab_type": "text"
      },
      "source": [
        "# Tuples\n",
        "*  Tuples are the equivalent of arrays in python\n",
        "*  Tuples are immutable data-structures\n",
        "\n",
        "![alt text](https://docs.oracle.com/javase/tutorial/figures/java/objects-tenElementArray.gif)\n",
        "*  Accessing elements from a tuple takes constant time `i.e., O(1)`, whereas accessing elements from a list takes linear time `i.e., O(n)`\n",
        "*  Use tuples when you dont have to insert or delete elements from the data-structure, but you only need to find the indices of elements or access the elements `i.e., READ_ONLY`\n"
      ]
    },
    {
      "cell_type": "code",
      "metadata": {
        "id": "minZJp6LrgUB",
        "colab_type": "code",
        "outputId": "0e191479-35a4-4290-fd1d-2a797a09005c",
        "colab": {
          "base_uri": "https://localhost:8080/",
          "height": 34
        }
      },
      "source": [
        "t = (5, 5.6, 'Word', False)\n",
        "print(type(t))"
      ],
      "execution_count": 0,
      "outputs": [
        {
          "output_type": "stream",
          "text": [
            "<class 'tuple'>\n"
          ],
          "name": "stdout"
        }
      ]
    },
    {
      "cell_type": "code",
      "metadata": {
        "id": "VxvmZ-7jrgPa",
        "colab_type": "code",
        "outputId": "aede769f-1591-4e9d-c3ca-514c966e255b",
        "colab": {
          "base_uri": "https://localhost:8080/",
          "height": 121
        }
      },
      "source": [
        "print(t[2]) # Word\n",
        "\n",
        "print(t[-1]) # False\n",
        "\n",
        "print(t[1:3])\n",
        "\n",
        "print(t[1:])\n",
        "\n",
        "print(t[:3])\n",
        "\n",
        "print(t[:])"
      ],
      "execution_count": 0,
      "outputs": [
        {
          "output_type": "stream",
          "text": [
            "Word\n",
            "False\n",
            "(5.6, 'Word')\n",
            "(5.6, 'Word', False)\n",
            "(5, 5.6, 'Word')\n",
            "(5, 5.6, 'Word', False)\n"
          ],
          "name": "stdout"
        }
      ]
    },
    {
      "cell_type": "code",
      "metadata": {
        "id": "RFwq393irgK6",
        "colab_type": "code",
        "outputId": "a079ff6d-3ce3-4135-f52e-a4a6a577be35",
        "colab": {
          "base_uri": "https://localhost:8080/",
          "height": 312
        }
      },
      "source": [
        "print('Loop 1')\n",
        "for i in t:\n",
        "  print(i)\n",
        "\n",
        "print('\\nLoop 2')\n",
        "for i in range(len(t)): # 0 1 2 3\n",
        "  print('Tuple element, {} - {}'.format(i, t[i]))\n",
        "\n",
        "print('\\nLoop 3')\n",
        "for i, v in enumerate(t):\n",
        "  print('Tuple element, {} - {}'.format(i, v))"
      ],
      "execution_count": 0,
      "outputs": [
        {
          "output_type": "stream",
          "text": [
            "Loop 1\n",
            "5\n",
            "5.6\n",
            "Word\n",
            "False\n",
            "\n",
            "Loop 2\n",
            "Tuple element, 0 - 5\n",
            "Tuple element, 1 - 5.6\n",
            "Tuple element, 2 - Word\n",
            "Tuple element, 3 - False\n",
            "\n",
            "Loop 3\n",
            "Tuple element, 0 - 5\n",
            "Tuple element, 1 - 5.6\n",
            "Tuple element, 2 - Word\n",
            "Tuple element, 3 - False\n"
          ],
          "name": "stdout"
        }
      ]
    },
    {
      "cell_type": "code",
      "metadata": {
        "id": "rI3pKRXwrgFZ",
        "colab_type": "code",
        "outputId": "6069936a-7264-4a4c-9c38-e4f684736d8b",
        "colab": {
          "base_uri": "https://localhost:8080/",
          "height": 34
        }
      },
      "source": [
        "t = tuple(\"dog is man's best friend\")\n",
        "print(t)"
      ],
      "execution_count": 0,
      "outputs": [
        {
          "output_type": "stream",
          "text": [
            "('d', 'o', 'g', ' ', 'i', 's', ' ', 'm', 'a', 'n', \"'\", 's', ' ', 'b', 'e', 's', 't', ' ', 'f', 'r', 'i', 'e', 'n', 'd')\n"
          ],
          "name": "stdout"
        }
      ]
    },
    {
      "cell_type": "code",
      "metadata": {
        "id": "0Ctr2s43xs98",
        "colab_type": "code",
        "outputId": "cfe65a3a-394e-4f2d-bd1e-bd54d4531d8b",
        "colab": {
          "base_uri": "https://localhost:8080/",
          "height": 34
        }
      },
      "source": [
        "t.count('e')"
      ],
      "execution_count": 0,
      "outputs": [
        {
          "output_type": "execute_result",
          "data": {
            "text/plain": [
              "2"
            ]
          },
          "metadata": {
            "tags": []
          },
          "execution_count": 11
        }
      ]
    },
    {
      "cell_type": "code",
      "metadata": {
        "id": "5KGUXiwhthbD",
        "colab_type": "code",
        "outputId": "5f9cc60e-630c-4153-a905-18124c3cfba2",
        "colab": {
          "base_uri": "https://localhost:8080/",
          "height": 34
        }
      },
      "source": [
        "def is_vowel(x):\n",
        "  if x in \"aeiou\":\n",
        "    return True\n",
        "  else:\n",
        "    return False\n",
        "\n",
        "f = filter(is_vowel, t)\n",
        "print(tuple(f))"
      ],
      "execution_count": 0,
      "outputs": [
        {
          "output_type": "stream",
          "text": [
            "('o', 'i', 'a', 'e', 'i', 'e')\n"
          ],
          "name": "stdout"
        }
      ]
    },
    {
      "cell_type": "code",
      "metadata": {
        "id": "mtQIY2g5thL0",
        "colab_type": "code",
        "outputId": "c2d59617-e339-4b99-8b12-426cec48d09d",
        "colab": {
          "base_uri": "https://localhost:8080/",
          "height": 54
        }
      },
      "source": [
        "def solve(x):\n",
        "  return x + \"**\"\n",
        "\n",
        "m = map(solve, t)\n",
        "\n",
        "print(tuple(m))"
      ],
      "execution_count": 0,
      "outputs": [
        {
          "output_type": "stream",
          "text": [
            "('d**', 'o**', 'g**', ' **', 'i**', 's**', ' **', 'm**', 'a**', 'n**', \"'**\", 's**', ' **', 'b**', 'e**', 's**', 't**', ' **', 'f**', 'r**', 'i**', 'e**', 'n**', 'd**')\n"
          ],
          "name": "stdout"
        }
      ]
    },
    {
      "cell_type": "markdown",
      "metadata": {
        "id": "TqN0W5pWuiR9",
        "colab_type": "text"
      },
      "source": [
        "# Dictionaries\n",
        "*  Dictionaries are the equivalent of Hashmaps in python\n",
        "*  They store data in the form of key-value pairs\n",
        "*  The keys in a dictionary should be unique, whereas there is not such constraint on the values\n",
        "\n",
        "![alt text](https://encrypted-tbn0.gstatic.com/images?q=tbn%3AANd9GcS5TuQ72NwR50BXZAe1gadNShvfEULW9kZsqDZmsIji6WLQ3Z6T&usqp=CAU)\n"
      ]
    },
    {
      "cell_type": "code",
      "metadata": {
        "id": "C0H5jf0bzRYc",
        "colab_type": "code",
        "outputId": "a3b27a26-97b0-44b2-ce91-f3fd72ff294d",
        "colab": {
          "base_uri": "https://localhost:8080/",
          "height": 34
        }
      },
      "source": [
        "d = {\n",
        "    \"name\": \"James\",\n",
        "    \"age\": 20,\n",
        "    \"is_male\": True\n",
        "}\n",
        "\n",
        "print(d)"
      ],
      "execution_count": 0,
      "outputs": [
        {
          "output_type": "stream",
          "text": [
            "{'name': 'James', 'age': 20, 'is_male': True}\n"
          ],
          "name": "stdout"
        }
      ]
    },
    {
      "cell_type": "code",
      "metadata": {
        "id": "nWloqyS-zRJ6",
        "colab_type": "code",
        "outputId": "e4f31a66-ce4a-4de4-c930-0c584594c569",
        "colab": {
          "base_uri": "https://localhost:8080/",
          "height": 34
        }
      },
      "source": [
        "print(type(d))"
      ],
      "execution_count": 0,
      "outputs": [
        {
          "output_type": "stream",
          "text": [
            "<class 'dict'>\n"
          ],
          "name": "stdout"
        }
      ]
    },
    {
      "cell_type": "code",
      "metadata": {
        "id": "1reLSeiavZM-",
        "colab_type": "code",
        "outputId": "cee336aa-5152-440a-c05f-05196b1ae07d",
        "colab": {
          "base_uri": "https://localhost:8080/",
          "height": 34
        }
      },
      "source": [
        "# list of tuples\n",
        "l = [(\"name\", \"Jack\"), (\"age\", 23), (\"height\", 5.10)]\n",
        "\n",
        "d = dict(l)\n",
        "print(d)"
      ],
      "execution_count": 0,
      "outputs": [
        {
          "output_type": "stream",
          "text": [
            "{'name': 'Jack', 'age': 23, 'height': 5.1}\n"
          ],
          "name": "stdout"
        }
      ]
    },
    {
      "cell_type": "code",
      "metadata": {
        "id": "2t8jjpSOvZAe",
        "colab_type": "code",
        "outputId": "c794e5e4-b75f-4b5d-f35c-0b5f43517561",
        "colab": {
          "base_uri": "https://localhost:8080/",
          "height": 52
        }
      },
      "source": [
        "keys = [\"name\", \"age\", \"height\"]\n",
        "values = [\"Bob\", 25, 6.1]\n",
        "\n",
        "zipped = list(zip(keys, values))\n",
        "print(zipped)\n",
        "print(dict(zipped))"
      ],
      "execution_count": 0,
      "outputs": [
        {
          "output_type": "stream",
          "text": [
            "[('name', 'Bob'), ('age', 25), ('height', 6.1)]\n",
            "{'name': 'Bob', 'age': 25, 'height': 6.1}\n"
          ],
          "name": "stdout"
        }
      ]
    },
    {
      "cell_type": "code",
      "metadata": {
        "id": "bE_qzxKrvY84",
        "colab_type": "code",
        "outputId": "8d519c89-fbbe-496f-e5f7-05a6aaf5b1b2",
        "colab": {
          "base_uri": "https://localhost:8080/",
          "height": 34
        }
      },
      "source": [
        "fruits = {\n",
        "     \"apple\": 1,\n",
        "     \"mango\": 2,\n",
        "     \"watermelon\": 1 \n",
        "}\n",
        "\n",
        "print(\"grapes\" in fruits)"
      ],
      "execution_count": 0,
      "outputs": [
        {
          "output_type": "stream",
          "text": [
            "False\n"
          ],
          "name": "stdout"
        }
      ]
    },
    {
      "cell_type": "code",
      "metadata": {
        "id": "JuU96xef0XoB",
        "colab_type": "code",
        "outputId": "37fb4366-fcc0-40b0-aab4-dcf3bf487dd8",
        "colab": {
          "base_uri": "https://localhost:8080/",
          "height": 34
        }
      },
      "source": [
        "fruits[\"grapes\"] = 5\n",
        "print(fruits)"
      ],
      "execution_count": 0,
      "outputs": [
        {
          "output_type": "stream",
          "text": [
            "{'apple': 1, 'mango': 2, 'watermelon': 1, 'grapes': 5}\n"
          ],
          "name": "stdout"
        }
      ]
    },
    {
      "cell_type": "code",
      "metadata": {
        "id": "Q3uEe1_b1AzO",
        "colab_type": "code",
        "outputId": "ea059c55-7328-4b9b-d46a-a1dcdacba79c",
        "colab": {
          "base_uri": "https://localhost:8080/",
          "height": 69
        }
      },
      "source": [
        "print(fruits.keys())\n",
        "\n",
        "print(fruits.values())\n",
        "\n",
        "print(fruits.items())"
      ],
      "execution_count": 0,
      "outputs": [
        {
          "output_type": "stream",
          "text": [
            "dict_keys(['apple', 'mango', 'watermelon', 'grapes'])\n",
            "dict_values([1, 2, 1, 5])\n",
            "dict_items([('apple', 1), ('mango', 2), ('watermelon', 1), ('grapes', 5)])\n"
          ],
          "name": "stdout"
        }
      ]
    },
    {
      "cell_type": "code",
      "metadata": {
        "id": "skHbWbwT0fZI",
        "colab_type": "code",
        "outputId": "81581e82-df90-49ec-e63d-a9534e7bbb38",
        "colab": {
          "base_uri": "https://localhost:8080/",
          "height": 312
        }
      },
      "source": [
        "print('LOOP 1')\n",
        "for key in fruits:\n",
        "  print(key, fruits[key])\n",
        "\n",
        "print('\\nLOOP 2')\n",
        "for value in fruits.values():\n",
        "  print(value)\n",
        "\n",
        "print('\\nLOOP 3')\n",
        "for key, value in fruits.items():\n",
        "  print(key, value)"
      ],
      "execution_count": 0,
      "outputs": [
        {
          "output_type": "stream",
          "text": [
            "LOOP 1\n",
            "apple 1\n",
            "mango 2\n",
            "watermelon 1\n",
            "grapes 5\n",
            "\n",
            "LOOP 2\n",
            "1\n",
            "2\n",
            "1\n",
            "5\n",
            "\n",
            "LOOP 3\n",
            "apple 1\n",
            "mango 2\n",
            "watermelon 1\n",
            "grapes 5\n"
          ],
          "name": "stdout"
        }
      ]
    },
    {
      "cell_type": "code",
      "metadata": {
        "id": "O1w55kCG6gXi",
        "colab_type": "code",
        "outputId": "e871c14a-203d-4d4c-a9ae-c59b1dab5b46",
        "colab": {
          "base_uri": "https://localhost:8080/",
          "height": 34
        }
      },
      "source": [
        "d = {\n",
        "    1.5: 'This is a value'\n",
        "}\n",
        "\n",
        "print(d)"
      ],
      "execution_count": 0,
      "outputs": [
        {
          "output_type": "stream",
          "text": [
            "{1.5: 'This is a value'}\n"
          ],
          "name": "stdout"
        }
      ]
    },
    {
      "cell_type": "markdown",
      "metadata": {
        "id": "75ZGMDpjy6Aw",
        "colab_type": "text"
      },
      "source": [
        "# Resources"
      ]
    },
    {
      "cell_type": "markdown",
      "metadata": {
        "id": "CQFjc7h8yxhv",
        "colab_type": "text"
      },
      "source": [
        "![alt text](data:image/jpeg;base64,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)\n",
        "\n",
        "*  https://docs.python.org/3/tutorial/datastructures.html"
      ]
    }
  ]
}