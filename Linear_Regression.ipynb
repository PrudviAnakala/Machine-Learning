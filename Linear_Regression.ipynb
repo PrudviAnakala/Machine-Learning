{
  "nbformat": 4,
  "nbformat_minor": 0,
  "metadata": {
    "colab": {
      "name": "Linear Regression.ipynb",
      "provenance": [],
      "authorship_tag": "ABX9TyNJEX6hmpedZI8WM6qkLYHR",
      "include_colab_link": true
    },
    "kernelspec": {
      "name": "python3",
      "display_name": "Python 3"
    }
  },
  "cells": [
    {
      "cell_type": "markdown",
      "metadata": {
        "id": "view-in-github",
        "colab_type": "text"
      },
      "source": [
        "<a href=\"https://colab.research.google.com/github/PrudviAnakala/Machine-Learning/blob/master/Linear_Regression.ipynb\" target=\"_parent\"><img src=\"https://colab.research.google.com/assets/colab-badge.svg\" alt=\"Open In Colab\"/></a>"
      ]
    },
    {
      "cell_type": "code",
      "metadata": {
        "id": "v_IhTsoxm87M",
        "colab_type": "code",
        "outputId": "092fbf77-1131-4a9d-8b6c-9719380edade",
        "colab": {
          "base_uri": "https://localhost:8080/",
          "height": 325
        }
      },
      "source": [
        "from google.colab import drive\n",
        "drive.mount('/content/drive',force_remount=True)\n",
        "import numpy as np\n",
        "import matplotlib.pyplot as plt\n",
        "import pandas\n",
        "df=pandas.read_csv('/content/drive/My Drive/Classroom/FL_insurance_sample.csv')\n",
        "x = df['tiv_2011'].fillna(value=0)\n",
        "y = df['tiv_2012'].fillna(value=0)\n",
        "x_mean = x.mean(axis=0)\n",
        "y_mean = y.mean(axis=0)\n",
        "n = len(X)\n",
        "numerator = 0\n",
        "denominator = 0\n",
        "for i in range(n):\n",
        "  numerator += (x[i] - x_mean) * (y[i] - y_mean)\n",
        "  denominator += (x[i] - x_mean) **2\n",
        "theta_1 = numerator / denominator\n",
        "theta_0 = y_mean - (theta_1 * x_mean)\n",
        "print('theta_1:',theta_1,'theta_0:',theta_0)\n",
        "y = theta_0 + theta_1 * x\n",
        "plt.plot(x, y, color='black')\n",
        "plt.scatter(x, y, color='red')\n",
        "plt.xlabel('tiv_2011')\n",
        "plt.ylabel('tiv_2012')\n",
        "plt.show()"
      ],
      "execution_count": 0,
      "outputs": [
        {
          "output_type": "stream",
          "text": [
            "Mounted at /content/drive\n",
            "theta_1: 0.9540952516414731 theta_0: 497874.3771235135\n"
          ],
          "name": "stdout"
        },
        {
          "output_type": "display_data",
          "data": {
            "image/png": "[encoded data removed]",
            "text/plain": [
              "<Figure size 432x288 with 1 Axes>"
            ]
          },
          "metadata": {
            "tags": [],
            "needs_background": "light"
          }
        }
      ]
    }
  ]
}