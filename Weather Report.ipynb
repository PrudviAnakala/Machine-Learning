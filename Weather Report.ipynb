{
  "nbformat": 4,
  "nbformat_minor": 0,
  "metadata": {
    "colab": {
      "name": "Task 2-Weather.ipynb",
      "provenance": [],
      "authorship_tag": "ABX9TyMeyRN9EOY43pok8hevWM6R",
      "include_colab_link": true
    },
    "kernelspec": {
      "name": "python3",
      "display_name": "Python 3"
    }
  },
  "cells": [
    {
      "cell_type": "markdown",
      "metadata": {
        "id": "view-in-github",
        "colab_type": "text"
      },
      "source": [
        "<a href=\"https://colab.research.google.com/github/PrudviAnakala/prudvi/blob/master/Weather%20Report.ipynb\" target=\"_parent\"><img src=\"https://colab.research.google.com/assets/colab-badge.svg\" alt=\"Open In Colab\"/></a>"
      ]
    },
    {
      "cell_type": "code",
      "metadata": {
        "id": "N6H3Kvjkwlh_",
        "colab_type": "code",
        "outputId": "d6c12bfb-cd7e-4dc0-b9e0-1e6809253ecc",
        "colab": {
          "base_uri": "https://localhost:8080/",
          "height": 459
        }
      },
      "source": [
        "import requests\n",
        "url=\"https://api.openweathermap.org/data/2.5/weather?appid=843697b6fdc3ce411baccb1015372864&q=\"\n",
        "while(1):\n",
        "  city=input(\"city_name:\")\n",
        "  my_url=url+city\n",
        "  data=requests.get(my_url).json()\n",
        "  print(\"the weather report:\\n\\n\",data)\n"
      ],
      "execution_count": 0,
      "outputs": [
        {
          "output_type": "stream",
          "text": [
            "city_name:kadapa\n",
            "the weather report:\n",
            "\n",
            " {'coord': {'lon': 78.82, 'lat': 14.47}, 'weather': [{'id': 802, 'main': 'Clouds', 'description': 'scattered clouds', 'icon': '03n'}], 'base': 'stations', 'main': {'temp': 304.14, 'feels_like': 303.38, 'temp_min': 304.14, 'temp_max': 304.14, 'pressure': 1009, 'humidity': 36, 'sea_level': 1009, 'grnd_level': 994}, 'wind': {'speed': 2.96, 'deg': 102}, 'clouds': {'all': 40}, 'dt': 1587303489, 'sys': {'country': 'IN', 'sunrise': 1587256099, 'sunset': 1587301133}, 'timezone': 19800, 'id': 1273800, 'name': 'Kadapa', 'cod': 200}\n",
            "city_name:pulivendula\n",
            "the weather report:\n",
            "\n",
            " {'coord': {'lon': 78.23, 'lat': 14.42}, 'weather': [{'id': 802, 'main': 'Clouds', 'description': 'scattered clouds', 'icon': '03n'}], 'base': 'stations', 'main': {'temp': 306.24, 'feels_like': 302.46, 'temp_min': 306.24, 'temp_max': 306.24, 'pressure': 1008, 'humidity': 23, 'sea_level': 1008, 'grnd_level': 979}, 'wind': {'speed': 5.15, 'deg': 110}, 'clouds': {'all': 33}, 'dt': 1587303547, 'sys': {'country': 'IN', 'sunrise': 1587256243, 'sunset': 1587301272}, 'timezone': 19800, 'id': 1259264, 'name': 'Pulivendula', 'cod': 200}\n",
            "city_name:kurnool\n",
            "the weather report:\n",
            "\n",
            " {'coord': {'lon': 78.04, 'lat': 15.83}, 'weather': [{'id': 802, 'main': 'Clouds', 'description': 'scattered clouds', 'icon': '03n'}], 'base': 'stations', 'main': {'temp': 306.73, 'feels_like': 302.98, 'temp_min': 306.73, 'temp_max': 306.73, 'pressure': 1008, 'humidity': 25, 'sea_level': 1008, 'grnd_level': 977}, 'wind': {'speed': 5.75, 'deg': 113}, 'clouds': {'all': 30}, 'dt': 1587303388, 'sys': {'country': 'IN', 'sunrise': 1587256215, 'sunset': 1587301391}, 'timezone': 19800, 'id': 1279074, 'name': 'Kurnool', 'cod': 200}\n",
            "city_name:mumbai\n",
            "the weather report:\n",
            "\n",
            " {'coord': {'lon': 72.85, 'lat': 19.01}, 'weather': [{'id': 711, 'main': 'Smoke', 'description': 'smoke', 'icon': '50n'}], 'base': 'stations', 'main': {'temp': 306.9, 'feels_like': 310.56, 'temp_min': 305.15, 'temp_max': 309.82, 'pressure': 1006, 'humidity': 59}, 'visibility': 5000, 'wind': {'speed': 3.6, 'deg': 310}, 'clouds': {'all': 20}, 'dt': 1587302977, 'sys': {'type': 1, 'id': 9052, 'country': 'IN', 'sunrise': 1587257289, 'sunset': 1587302808}, 'timezone': 19800, 'id': 1275339, 'name': 'Mumbai', 'cod': 200}\n",
            "city_name:chennai\n",
            "the weather report:\n",
            "\n",
            " {'coord': {'lon': 80.28, 'lat': 13.09}, 'weather': [{'id': 801, 'main': 'Clouds', 'description': 'few clouds', 'icon': '02n'}], 'base': 'stations', 'main': {'temp': 303.88, 'feels_like': 306.49, 'temp_min': 303.71, 'temp_max': 304.15, 'pressure': 1008, 'humidity': 70}, 'visibility': 7000, 'wind': {'speed': 5.1, 'deg': 130}, 'clouds': {'all': 20}, 'dt': 1587303425, 'sys': {'type': 1, 'id': 9218, 'country': 'IN', 'sunrise': 1587255820, 'sunset': 1587300711}, 'timezone': 19800, 'id': 1264527, 'name': 'Chennai', 'cod': 200}\n",
            "city_name:hyderabad\n",
            "the weather report:\n",
            "\n",
            " {'coord': {'lon': 78.47, 'lat': 17.38}, 'weather': [{'id': 801, 'main': 'Clouds', 'description': 'few clouds', 'icon': '02n'}], 'base': 'stations', 'main': {'temp': 306.15, 'feels_like': 308.93, 'temp_min': 306.15, 'temp_max': 306.15, 'pressure': 1012, 'humidity': 52}, 'visibility': 6000, 'wind': {'speed': 2.6, 'deg': 130}, 'clouds': {'all': 20}, 'dt': 1587303011, 'sys': {'type': 1, 'id': 9213, 'country': 'IN', 'sunrise': 1587256029, 'sunset': 1587301371}, 'timezone': 19800, 'id': 1269843, 'name': 'Hyderabad', 'cod': 200}\n"
          ],
          "name": "stdout"
        }
      ]
    },
    {
      "cell_type": "code",
      "metadata": {
        "id": "dHnG4ryL1ByN",
        "colab_type": "code",
        "colab": {}
      },
      "source": [
        ""
      ],
      "execution_count": 0,
      "outputs": []
    }
  ]
}