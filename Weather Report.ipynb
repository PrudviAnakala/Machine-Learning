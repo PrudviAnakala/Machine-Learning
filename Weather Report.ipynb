import requests
url="https://api.openweathermap.org/data/2.5/weather?appid=843697b6fdc3ce411baccb1015372864&q="
while(1):
  city=input("city_name:")
  my_url=url+city
  data=requests.get(my_url).json()
  print("the weather report:\n\n",data)
